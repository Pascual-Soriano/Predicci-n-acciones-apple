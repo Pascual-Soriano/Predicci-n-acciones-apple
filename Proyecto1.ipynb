{
 "cells": [
  {
   "cell_type": "code",
   "id": "initial_id",
   "metadata": {
    "collapsed": true,
    "ExecuteTime": {
     "end_time": "2025-04-11T22:33:51.611101Z",
     "start_time": "2025-04-11T22:33:51.605273Z"
    }
   },
   "source": [
    "import pandas as pd\n",
    "import numpy as np\n",
    "import seaborn as sns\n",
    "from sklearn.preprocessing import MinMaxScaler\n",
    "from sklearn.impute import SimpleImputer\n",
    "from sklearn.metrics import r2_score\n",
    "from tensorflow.keras.models import Sequential\n",
    "from tensorflow.keras.layers import LSTM, Dense, Dropout\n",
    "from tensorflow.keras.optimizers import Adam\n",
    "import matplotlib.pyplot as plt\n",
    "\n",
    "#model = Sequential()\n",
    "#model.add(LSTM(units=50, activation=\"tanh\", input_shape=(n_steps, n_futures)))\n",
    "#model.add(Dense(1))\n",
    "#model.compile(loss=\"mse\", optimizer=\"adam\")\n",
    "#model.summary()"
   ],
   "outputs": [],
   "execution_count": 104
  },
  {
   "metadata": {
    "ExecuteTime": {
     "end_time": "2025-04-11T21:12:13.976350Z",
     "start_time": "2025-04-11T21:12:13.879623Z"
    }
   },
   "cell_type": "code",
   "source": [
    "data = pd.read_csv(\"Datos_Acciones.csv\", index_col=\"Date\", parse_dates=True)\n",
    "\n",
    "data"
   ],
   "id": "a306048b13e98f1b",
   "outputs": [
    {
     "data": {
      "text/plain": [
       "             Open   High    Low  Close    Volume  Name\n",
       "Date                                                  \n",
       "2006-01-03  77.76  79.35  77.24  79.11   3117200   MMM\n",
       "2006-01-04  79.49  79.49  78.25  78.71   2558000   MMM\n",
       "2006-01-05  78.41  78.65  77.56  77.99   2529500   MMM\n",
       "2006-01-06  78.64  78.90  77.64  78.63   2479500   MMM\n",
       "2006-01-09  78.50  79.83  78.46  79.02   1845600   MMM\n",
       "...           ...    ...    ...    ...       ...   ...\n",
       "2017-12-22  71.42  71.87  71.22  71.58  10979165  AABA\n",
       "2017-12-26  70.94  71.39  69.63  69.86   8542802  AABA\n",
       "2017-12-27  69.77  70.49  69.69  70.06   6345124  AABA\n",
       "2017-12-28  70.12  70.32  69.51  69.82   7556877  AABA\n",
       "2017-12-29  69.79  70.13  69.43  69.85   6613070  AABA\n",
       "\n",
       "[93612 rows x 6 columns]"
      ],
      "text/html": [
       "<div>\n",
       "<style scoped>\n",
       "    .dataframe tbody tr th:only-of-type {\n",
       "        vertical-align: middle;\n",
       "    }\n",
       "\n",
       "    .dataframe tbody tr th {\n",
       "        vertical-align: top;\n",
       "    }\n",
       "\n",
       "    .dataframe thead th {\n",
       "        text-align: right;\n",
       "    }\n",
       "</style>\n",
       "<table border=\"1\" class=\"dataframe\">\n",
       "  <thead>\n",
       "    <tr style=\"text-align: right;\">\n",
       "      <th></th>\n",
       "      <th>Open</th>\n",
       "      <th>High</th>\n",
       "      <th>Low</th>\n",
       "      <th>Close</th>\n",
       "      <th>Volume</th>\n",
       "      <th>Name</th>\n",
       "    </tr>\n",
       "    <tr>\n",
       "      <th>Date</th>\n",
       "      <th></th>\n",
       "      <th></th>\n",
       "      <th></th>\n",
       "      <th></th>\n",
       "      <th></th>\n",
       "      <th></th>\n",
       "    </tr>\n",
       "  </thead>\n",
       "  <tbody>\n",
       "    <tr>\n",
       "      <th>2006-01-03</th>\n",
       "      <td>77.76</td>\n",
       "      <td>79.35</td>\n",
       "      <td>77.24</td>\n",
       "      <td>79.11</td>\n",
       "      <td>3117200</td>\n",
       "      <td>MMM</td>\n",
       "    </tr>\n",
       "    <tr>\n",
       "      <th>2006-01-04</th>\n",
       "      <td>79.49</td>\n",
       "      <td>79.49</td>\n",
       "      <td>78.25</td>\n",
       "      <td>78.71</td>\n",
       "      <td>2558000</td>\n",
       "      <td>MMM</td>\n",
       "    </tr>\n",
       "    <tr>\n",
       "      <th>2006-01-05</th>\n",
       "      <td>78.41</td>\n",
       "      <td>78.65</td>\n",
       "      <td>77.56</td>\n",
       "      <td>77.99</td>\n",
       "      <td>2529500</td>\n",
       "      <td>MMM</td>\n",
       "    </tr>\n",
       "    <tr>\n",
       "      <th>2006-01-06</th>\n",
       "      <td>78.64</td>\n",
       "      <td>78.90</td>\n",
       "      <td>77.64</td>\n",
       "      <td>78.63</td>\n",
       "      <td>2479500</td>\n",
       "      <td>MMM</td>\n",
       "    </tr>\n",
       "    <tr>\n",
       "      <th>2006-01-09</th>\n",
       "      <td>78.50</td>\n",
       "      <td>79.83</td>\n",
       "      <td>78.46</td>\n",
       "      <td>79.02</td>\n",
       "      <td>1845600</td>\n",
       "      <td>MMM</td>\n",
       "    </tr>\n",
       "    <tr>\n",
       "      <th>...</th>\n",
       "      <td>...</td>\n",
       "      <td>...</td>\n",
       "      <td>...</td>\n",
       "      <td>...</td>\n",
       "      <td>...</td>\n",
       "      <td>...</td>\n",
       "    </tr>\n",
       "    <tr>\n",
       "      <th>2017-12-22</th>\n",
       "      <td>71.42</td>\n",
       "      <td>71.87</td>\n",
       "      <td>71.22</td>\n",
       "      <td>71.58</td>\n",
       "      <td>10979165</td>\n",
       "      <td>AABA</td>\n",
       "    </tr>\n",
       "    <tr>\n",
       "      <th>2017-12-26</th>\n",
       "      <td>70.94</td>\n",
       "      <td>71.39</td>\n",
       "      <td>69.63</td>\n",
       "      <td>69.86</td>\n",
       "      <td>8542802</td>\n",
       "      <td>AABA</td>\n",
       "    </tr>\n",
       "    <tr>\n",
       "      <th>2017-12-27</th>\n",
       "      <td>69.77</td>\n",
       "      <td>70.49</td>\n",
       "      <td>69.69</td>\n",
       "      <td>70.06</td>\n",
       "      <td>6345124</td>\n",
       "      <td>AABA</td>\n",
       "    </tr>\n",
       "    <tr>\n",
       "      <th>2017-12-28</th>\n",
       "      <td>70.12</td>\n",
       "      <td>70.32</td>\n",
       "      <td>69.51</td>\n",
       "      <td>69.82</td>\n",
       "      <td>7556877</td>\n",
       "      <td>AABA</td>\n",
       "    </tr>\n",
       "    <tr>\n",
       "      <th>2017-12-29</th>\n",
       "      <td>69.79</td>\n",
       "      <td>70.13</td>\n",
       "      <td>69.43</td>\n",
       "      <td>69.85</td>\n",
       "      <td>6613070</td>\n",
       "      <td>AABA</td>\n",
       "    </tr>\n",
       "  </tbody>\n",
       "</table>\n",
       "<p>93612 rows × 6 columns</p>\n",
       "</div>"
      ]
     },
     "execution_count": 71,
     "metadata": {},
     "output_type": "execute_result"
    }
   ],
   "execution_count": 71
  },
  {
   "metadata": {
    "ExecuteTime": {
     "end_time": "2025-04-11T21:12:20.967975Z",
     "start_time": "2025-04-11T21:12:20.921551Z"
    }
   },
   "cell_type": "code",
   "source": "data.describe()",
   "id": "c6f329a61c60fc7f",
   "outputs": [
    {
     "data": {
      "text/plain": [
       "               Open          High           Low         Close        Volume\n",
       "count  93587.000000  93602.000000  93592.000000  93612.000000  9.361200e+04\n",
       "mean      85.623260     86.387045     84.836664     85.641753  2.015667e+07\n",
       "std      108.151723    108.956365    107.225361    108.121106  3.442108e+07\n",
       "min        6.750000      7.170000      0.000000      6.660000  0.000000e+00\n",
       "25%       33.950000     34.290000     33.600000     33.960000  5.040180e+06\n",
       "50%       60.040000     60.630000     59.490000     60.050000  9.701142e+06\n",
       "75%       94.000000     94.740000     93.250000     94.012500  2.075222e+07\n",
       "max     1204.880000   1213.410000   1191.150000   1195.830000  8.432640e+08"
      ],
      "text/html": [
       "<div>\n",
       "<style scoped>\n",
       "    .dataframe tbody tr th:only-of-type {\n",
       "        vertical-align: middle;\n",
       "    }\n",
       "\n",
       "    .dataframe tbody tr th {\n",
       "        vertical-align: top;\n",
       "    }\n",
       "\n",
       "    .dataframe thead th {\n",
       "        text-align: right;\n",
       "    }\n",
       "</style>\n",
       "<table border=\"1\" class=\"dataframe\">\n",
       "  <thead>\n",
       "    <tr style=\"text-align: right;\">\n",
       "      <th></th>\n",
       "      <th>Open</th>\n",
       "      <th>High</th>\n",
       "      <th>Low</th>\n",
       "      <th>Close</th>\n",
       "      <th>Volume</th>\n",
       "    </tr>\n",
       "  </thead>\n",
       "  <tbody>\n",
       "    <tr>\n",
       "      <th>count</th>\n",
       "      <td>93587.000000</td>\n",
       "      <td>93602.000000</td>\n",
       "      <td>93592.000000</td>\n",
       "      <td>93612.000000</td>\n",
       "      <td>9.361200e+04</td>\n",
       "    </tr>\n",
       "    <tr>\n",
       "      <th>mean</th>\n",
       "      <td>85.623260</td>\n",
       "      <td>86.387045</td>\n",
       "      <td>84.836664</td>\n",
       "      <td>85.641753</td>\n",
       "      <td>2.015667e+07</td>\n",
       "    </tr>\n",
       "    <tr>\n",
       "      <th>std</th>\n",
       "      <td>108.151723</td>\n",
       "      <td>108.956365</td>\n",
       "      <td>107.225361</td>\n",
       "      <td>108.121106</td>\n",
       "      <td>3.442108e+07</td>\n",
       "    </tr>\n",
       "    <tr>\n",
       "      <th>min</th>\n",
       "      <td>6.750000</td>\n",
       "      <td>7.170000</td>\n",
       "      <td>0.000000</td>\n",
       "      <td>6.660000</td>\n",
       "      <td>0.000000e+00</td>\n",
       "    </tr>\n",
       "    <tr>\n",
       "      <th>25%</th>\n",
       "      <td>33.950000</td>\n",
       "      <td>34.290000</td>\n",
       "      <td>33.600000</td>\n",
       "      <td>33.960000</td>\n",
       "      <td>5.040180e+06</td>\n",
       "    </tr>\n",
       "    <tr>\n",
       "      <th>50%</th>\n",
       "      <td>60.040000</td>\n",
       "      <td>60.630000</td>\n",
       "      <td>59.490000</td>\n",
       "      <td>60.050000</td>\n",
       "      <td>9.701142e+06</td>\n",
       "    </tr>\n",
       "    <tr>\n",
       "      <th>75%</th>\n",
       "      <td>94.000000</td>\n",
       "      <td>94.740000</td>\n",
       "      <td>93.250000</td>\n",
       "      <td>94.012500</td>\n",
       "      <td>2.075222e+07</td>\n",
       "    </tr>\n",
       "    <tr>\n",
       "      <th>max</th>\n",
       "      <td>1204.880000</td>\n",
       "      <td>1213.410000</td>\n",
       "      <td>1191.150000</td>\n",
       "      <td>1195.830000</td>\n",
       "      <td>8.432640e+08</td>\n",
       "    </tr>\n",
       "  </tbody>\n",
       "</table>\n",
       "</div>"
      ]
     },
     "execution_count": 72,
     "metadata": {},
     "output_type": "execute_result"
    }
   ],
   "execution_count": 72
  },
  {
   "metadata": {
    "ExecuteTime": {
     "end_time": "2025-04-11T21:12:22.810662Z",
     "start_time": "2025-04-11T21:12:22.805868Z"
    }
   },
   "cell_type": "code",
   "source": "(data.columns)",
   "id": "37e0f036125b0789",
   "outputs": [
    {
     "data": {
      "text/plain": [
       "Index(['Open', 'High', 'Low', 'Close', 'Volume', 'Name'], dtype='object')"
      ]
     },
     "execution_count": 73,
     "metadata": {},
     "output_type": "execute_result"
    }
   ],
   "execution_count": 73
  },
  {
   "metadata": {
    "ExecuteTime": {
     "end_time": "2025-04-11T21:12:41.272544Z",
     "start_time": "2025-04-11T21:12:41.247709Z"
    }
   },
   "cell_type": "code",
   "source": "data.info()",
   "id": "dc04a03d85ad3c18",
   "outputs": [
    {
     "name": "stdout",
     "output_type": "stream",
     "text": [
      "<class 'pandas.core.frame.DataFrame'>\n",
      "DatetimeIndex: 93612 entries, 2006-01-03 to 2017-12-29\n",
      "Data columns (total 6 columns):\n",
      " #   Column  Non-Null Count  Dtype  \n",
      "---  ------  --------------  -----  \n",
      " 0   Open    93587 non-null  float64\n",
      " 1   High    93602 non-null  float64\n",
      " 2   Low     93592 non-null  float64\n",
      " 3   Close   93612 non-null  float64\n",
      " 4   Volume  93612 non-null  int64  \n",
      " 5   Name    93612 non-null  object \n",
      "dtypes: float64(4), int64(1), object(1)\n",
      "memory usage: 5.0+ MB\n"
     ]
    }
   ],
   "execution_count": 76
  },
  {
   "metadata": {
    "ExecuteTime": {
     "end_time": "2025-04-11T21:13:02.014338Z",
     "start_time": "2025-04-11T21:13:01.945561Z"
    }
   },
   "cell_type": "code",
   "source": [
    "#cargar datos de entrenamiento\n",
    "train_data = pd.read_csv(\"Datos_Acciones.csv\")\n",
    "train_data_appl = train_data[train_data[\"Name\"] == \"AAPL\"][[\"Open\",'High', 'Low', 'Close', 'Volume']]"
   ],
   "id": "53bc425234b082a4",
   "outputs": [],
   "execution_count": 77
  },
  {
   "metadata": {
    "ExecuteTime": {
     "end_time": "2025-04-11T22:37:16.397766Z",
     "start_time": "2025-04-11T22:37:16.374063Z"
    }
   },
   "cell_type": "code",
   "source": [
    "# Limpieza de datos\n",
    "train_data_appl.replace(['---', '               ---', 'NaN', '', ' '], np.nan, inplace=True)\n",
    "imputer = SimpleImputer(strategy='mean')\n",
    "train_data_appl = pd.DataFrame(imputer.fit_transform(train_data_appl), columns=train_data_appl.columns, index=train_data_appl.index)"
   ],
   "id": "ef59c6d49fbd40ab",
   "outputs": [],
   "execution_count": 109
  },
  {
   "metadata": {
    "ExecuteTime": {
     "end_time": "2025-04-11T22:37:18.514527Z",
     "start_time": "2025-04-11T22:37:18.394682Z"
    }
   },
   "cell_type": "code",
   "source": "sns.heatmap(train_data_appl.corr())\n",
   "id": "773c6c2156e8eca9",
   "outputs": [
    {
     "data": {
      "text/plain": [
       "<Axes: >"
      ]
     },
     "execution_count": 110,
     "metadata": {},
     "output_type": "execute_result"
    },
    {
     "data": {
      "text/plain": [
       "<Figure size 640x480 with 2 Axes>"
      ],
      "image/png": "[encoded data removed]"
     },
     "metadata": {},
     "output_type": "display_data"
    }
   ],
   "execution_count": 110
  },
  {
   "metadata": {
    "ExecuteTime": {
     "end_time": "2025-04-11T22:37:20.939558Z",
     "start_time": "2025-04-11T22:37:20.926372Z"
    }
   },
   "cell_type": "code",
   "source": [
    "#escalado de datos\n",
    "scaler = MinMaxScaler(feature_range=(0,1))\n",
    "train_scaled = scaler.fit_transform(train_data_appl)\n",
    "\n",
    "#crear secuencias de datos para el entrenamiento\n",
    "def create_dataset(dataset, look_back = 60):\n",
    "    X, Y = [], []\n",
    "    for i in range(len(dataset) - look_back):\n",
    "        a = dataset[i:(i + look_back), : ]\n",
    "        X.append(a)\n",
    "        Y.append(dataset[i + look_back, 0 ])\n",
    "    return np.array(X), np.array(Y)\n",
    "\n",
    "X_train, y_train = create_dataset(train_scaled,60)"
   ],
   "id": "3977e3c9bb56226c",
   "outputs": [],
   "execution_count": 111
  },
  {
   "metadata": {
    "ExecuteTime": {
     "end_time": "2025-04-11T22:37:22.838355Z",
     "start_time": "2025-04-11T22:37:22.678229Z"
    }
   },
   "cell_type": "code",
   "source": [
    "#modelo LSTM\n",
    "model = Sequential([LSTM(100, input_shape = (X_train.shape[1], X_train.shape[2]), return_sequences = True),Dropout(0.2), LSTM(100, return_sequences = False), Dense(1)])\n",
    "\n",
    "model.compile(loss=\"mse\", optimizer= Adam(learning_rate = 0.01))\n",
    "model.summary()"
   ],
   "id": "f30caac990d9f59e",
   "outputs": [
    {
     "name": "stderr",
     "output_type": "stream",
     "text": [
      "/Users/passoriano/Documents/PYCHARM PROYECTS/.venv1/lib/python3.10/site-packages/keras/src/layers/rnn/rnn.py:200: UserWarning: Do not pass an `input_shape`/`input_dim` argument to a layer. When using Sequential models, prefer using an `Input(shape)` object as the first layer in the model instead.\n",
      "  super().__init__(**kwargs)\n"
     ]
    },
    {
     "data": {
      "text/plain": [
       "\u001B[1mModel: \"sequential_8\"\u001B[0m\n"
      ],
      "text/html": [
       "<pre style=\"white-space:pre;overflow-x:auto;line-height:normal;font-family:Menlo,'DejaVu Sans Mono',consolas,'Courier New',monospace\"><span style=\"font-weight: bold\">Model: \"sequential_8\"</span>\n",
       "</pre>\n"
      ]
     },
     "metadata": {},
     "output_type": "display_data"
    },
    {
     "data": {
      "text/plain": [
       "┏━━━━━━━━━━━━━━━━━━━━━━━━━━━━━━━━━┳━━━━━━━━━━━━━━━━━━━━━━━━┳━━━━━━━━━━━━━━━┓\n",
       "┃\u001B[1m \u001B[0m\u001B[1mLayer (type)                   \u001B[0m\u001B[1m \u001B[0m┃\u001B[1m \u001B[0m\u001B[1mOutput Shape          \u001B[0m\u001B[1m \u001B[0m┃\u001B[1m \u001B[0m\u001B[1m      Param #\u001B[0m\u001B[1m \u001B[0m┃\n",
       "┡━━━━━━━━━━━━━━━━━━━━━━━━━━━━━━━━━╇━━━━━━━━━━━━━━━━━━━━━━━━╇━━━━━━━━━━━━━━━┩\n",
       "│ lstm_15 (\u001B[38;5;33mLSTM\u001B[0m)                  │ (\u001B[38;5;45mNone\u001B[0m, \u001B[38;5;34m60\u001B[0m, \u001B[38;5;34m100\u001B[0m)        │        \u001B[38;5;34m42,400\u001B[0m │\n",
       "├─────────────────────────────────┼────────────────────────┼───────────────┤\n",
       "│ dropout_7 (\u001B[38;5;33mDropout\u001B[0m)             │ (\u001B[38;5;45mNone\u001B[0m, \u001B[38;5;34m60\u001B[0m, \u001B[38;5;34m100\u001B[0m)        │             \u001B[38;5;34m0\u001B[0m │\n",
       "├─────────────────────────────────┼────────────────────────┼───────────────┤\n",
       "│ lstm_16 (\u001B[38;5;33mLSTM\u001B[0m)                  │ (\u001B[38;5;45mNone\u001B[0m, \u001B[38;5;34m100\u001B[0m)            │        \u001B[38;5;34m80,400\u001B[0m │\n",
       "├─────────────────────────────────┼────────────────────────┼───────────────┤\n",
       "│ dense_7 (\u001B[38;5;33mDense\u001B[0m)                 │ (\u001B[38;5;45mNone\u001B[0m, \u001B[38;5;34m1\u001B[0m)              │           \u001B[38;5;34m101\u001B[0m │\n",
       "└─────────────────────────────────┴────────────────────────┴───────────────┘\n"
      ],
      "text/html": [
       "<pre style=\"white-space:pre;overflow-x:auto;line-height:normal;font-family:Menlo,'DejaVu Sans Mono',consolas,'Courier New',monospace\">┏━━━━━━━━━━━━━━━━━━━━━━━━━━━━━━━━━┳━━━━━━━━━━━━━━━━━━━━━━━━┳━━━━━━━━━━━━━━━┓\n",
       "┃<span style=\"font-weight: bold\"> Layer (type)                    </span>┃<span style=\"font-weight: bold\"> Output Shape           </span>┃<span style=\"font-weight: bold\">       Param # </span>┃\n",
       "┡━━━━━━━━━━━━━━━━━━━━━━━━━━━━━━━━━╇━━━━━━━━━━━━━━━━━━━━━━━━╇━━━━━━━━━━━━━━━┩\n",
       "│ lstm_15 (<span style=\"color: #0087ff; text-decoration-color: #0087ff\">LSTM</span>)                  │ (<span style=\"color: #00d7ff; text-decoration-color: #00d7ff\">None</span>, <span style=\"color: #00af00; text-decoration-color: #00af00\">60</span>, <span style=\"color: #00af00; text-decoration-color: #00af00\">100</span>)        │        <span style=\"color: #00af00; text-decoration-color: #00af00\">42,400</span> │\n",
       "├─────────────────────────────────┼────────────────────────┼───────────────┤\n",
       "│ dropout_7 (<span style=\"color: #0087ff; text-decoration-color: #0087ff\">Dropout</span>)             │ (<span style=\"color: #00d7ff; text-decoration-color: #00d7ff\">None</span>, <span style=\"color: #00af00; text-decoration-color: #00af00\">60</span>, <span style=\"color: #00af00; text-decoration-color: #00af00\">100</span>)        │             <span style=\"color: #00af00; text-decoration-color: #00af00\">0</span> │\n",
       "├─────────────────────────────────┼────────────────────────┼───────────────┤\n",
       "│ lstm_16 (<span style=\"color: #0087ff; text-decoration-color: #0087ff\">LSTM</span>)                  │ (<span style=\"color: #00d7ff; text-decoration-color: #00d7ff\">None</span>, <span style=\"color: #00af00; text-decoration-color: #00af00\">100</span>)            │        <span style=\"color: #00af00; text-decoration-color: #00af00\">80,400</span> │\n",
       "├─────────────────────────────────┼────────────────────────┼───────────────┤\n",
       "│ dense_7 (<span style=\"color: #0087ff; text-decoration-color: #0087ff\">Dense</span>)                 │ (<span style=\"color: #00d7ff; text-decoration-color: #00d7ff\">None</span>, <span style=\"color: #00af00; text-decoration-color: #00af00\">1</span>)              │           <span style=\"color: #00af00; text-decoration-color: #00af00\">101</span> │\n",
       "└─────────────────────────────────┴────────────────────────┴───────────────┘\n",
       "</pre>\n"
      ]
     },
     "metadata": {},
     "output_type": "display_data"
    },
    {
     "data": {
      "text/plain": [
       "\u001B[1m Total params: \u001B[0m\u001B[38;5;34m122,901\u001B[0m (480.08 KB)\n"
      ],
      "text/html": [
       "<pre style=\"white-space:pre;overflow-x:auto;line-height:normal;font-family:Menlo,'DejaVu Sans Mono',consolas,'Courier New',monospace\"><span style=\"font-weight: bold\"> Total params: </span><span style=\"color: #00af00; text-decoration-color: #00af00\">122,901</span> (480.08 KB)\n",
       "</pre>\n"
      ]
     },
     "metadata": {},
     "output_type": "display_data"
    },
    {
     "data": {
      "text/plain": [
       "\u001B[1m Trainable params: \u001B[0m\u001B[38;5;34m122,901\u001B[0m (480.08 KB)\n"
      ],
      "text/html": [
       "<pre style=\"white-space:pre;overflow-x:auto;line-height:normal;font-family:Menlo,'DejaVu Sans Mono',consolas,'Courier New',monospace\"><span style=\"font-weight: bold\"> Trainable params: </span><span style=\"color: #00af00; text-decoration-color: #00af00\">122,901</span> (480.08 KB)\n",
       "</pre>\n"
      ]
     },
     "metadata": {},
     "output_type": "display_data"
    },
    {
     "data": {
      "text/plain": [
       "\u001B[1m Non-trainable params: \u001B[0m\u001B[38;5;34m0\u001B[0m (0.00 B)\n"
      ],
      "text/html": [
       "<pre style=\"white-space:pre;overflow-x:auto;line-height:normal;font-family:Menlo,'DejaVu Sans Mono',consolas,'Courier New',monospace\"><span style=\"font-weight: bold\"> Non-trainable params: </span><span style=\"color: #00af00; text-decoration-color: #00af00\">0</span> (0.00 B)\n",
       "</pre>\n"
      ]
     },
     "metadata": {},
     "output_type": "display_data"
    }
   ],
   "execution_count": 112
  },
  {
   "metadata": {
    "ExecuteTime": {
     "end_time": "2025-04-11T22:40:22.704371Z",
     "start_time": "2025-04-11T22:37:25.849618Z"
    }
   },
   "cell_type": "code",
   "source": [
    "#entrenar el modelo\n",
    "\n",
    "model.fit(X_train,y_train,epochs = 50, batch_size = 32, verbose = 1)"
   ],
   "id": "10736ec7a28c334e",
   "outputs": [
    {
     "name": "stdout",
     "output_type": "stream",
     "text": [
      "Epoch 1/50\n",
      "\u001B[1m93/93\u001B[0m \u001B[32m━━━━━━━━━━━━━━━━━━━━\u001B[0m\u001B[37m\u001B[0m \u001B[1m4s\u001B[0m 36ms/step - loss: 0.1863\n",
      "Epoch 2/50\n",
      "\u001B[1m93/93\u001B[0m \u001B[32m━━━━━━━━━━━━━━━━━━━━\u001B[0m\u001B[37m\u001B[0m \u001B[1m4s\u001B[0m 38ms/step - loss: 7.2626e-04\n",
      "Epoch 3/50\n",
      "\u001B[1m93/93\u001B[0m \u001B[32m━━━━━━━━━━━━━━━━━━━━\u001B[0m\u001B[37m\u001B[0m \u001B[1m4s\u001B[0m 43ms/step - loss: 5.2614e-04\n",
      "Epoch 4/50\n",
      "\u001B[1m93/93\u001B[0m \u001B[32m━━━━━━━━━━━━━━━━━━━━\u001B[0m\u001B[37m\u001B[0m \u001B[1m4s\u001B[0m 39ms/step - loss: 5.2774e-04\n",
      "Epoch 5/50\n",
      "\u001B[1m93/93\u001B[0m \u001B[32m━━━━━━━━━━━━━━━━━━━━\u001B[0m\u001B[37m\u001B[0m \u001B[1m4s\u001B[0m 39ms/step - loss: 3.9169e-04\n",
      "Epoch 6/50\n",
      "\u001B[1m93/93\u001B[0m \u001B[32m━━━━━━━━━━━━━━━━━━━━\u001B[0m\u001B[37m\u001B[0m \u001B[1m4s\u001B[0m 39ms/step - loss: 3.5544e-04\n",
      "Epoch 7/50\n",
      "\u001B[1m93/93\u001B[0m \u001B[32m━━━━━━━━━━━━━━━━━━━━\u001B[0m\u001B[37m\u001B[0m \u001B[1m4s\u001B[0m 38ms/step - loss: 3.2654e-04\n",
      "Epoch 8/50\n",
      "\u001B[1m93/93\u001B[0m \u001B[32m━━━━━━━━━━━━━━━━━━━━\u001B[0m\u001B[37m\u001B[0m \u001B[1m4s\u001B[0m 40ms/step - loss: 2.6230e-04\n",
      "Epoch 9/50\n",
      "\u001B[1m93/93\u001B[0m \u001B[32m━━━━━━━━━━━━━━━━━━━━\u001B[0m\u001B[37m\u001B[0m \u001B[1m4s\u001B[0m 40ms/step - loss: 2.7942e-04\n",
      "Epoch 10/50\n",
      "\u001B[1m93/93\u001B[0m \u001B[32m━━━━━━━━━━━━━━━━━━━━\u001B[0m\u001B[37m\u001B[0m \u001B[1m4s\u001B[0m 40ms/step - loss: 3.4461e-04\n",
      "Epoch 11/50\n",
      "\u001B[1m93/93\u001B[0m \u001B[32m━━━━━━━━━━━━━━━━━━━━\u001B[0m\u001B[37m\u001B[0m \u001B[1m4s\u001B[0m 38ms/step - loss: 3.9774e-04\n",
      "Epoch 12/50\n",
      "\u001B[1m93/93\u001B[0m \u001B[32m━━━━━━━━━━━━━━━━━━━━\u001B[0m\u001B[37m\u001B[0m \u001B[1m3s\u001B[0m 37ms/step - loss: 2.8775e-04\n",
      "Epoch 13/50\n",
      "\u001B[1m93/93\u001B[0m \u001B[32m━━━━━━━━━━━━━━━━━━━━\u001B[0m\u001B[37m\u001B[0m \u001B[1m4s\u001B[0m 38ms/step - loss: 3.8080e-04\n",
      "Epoch 14/50\n",
      "\u001B[1m93/93\u001B[0m \u001B[32m━━━━━━━━━━━━━━━━━━━━\u001B[0m\u001B[37m\u001B[0m \u001B[1m3s\u001B[0m 37ms/step - loss: 3.1680e-04\n",
      "Epoch 15/50\n",
      "\u001B[1m93/93\u001B[0m \u001B[32m━━━━━━━━━━━━━━━━━━━━\u001B[0m\u001B[37m\u001B[0m \u001B[1m3s\u001B[0m 36ms/step - loss: 2.3486e-04\n",
      "Epoch 16/50\n",
      "\u001B[1m93/93\u001B[0m \u001B[32m━━━━━━━━━━━━━━━━━━━━\u001B[0m\u001B[37m\u001B[0m \u001B[1m4s\u001B[0m 39ms/step - loss: 3.1020e-04\n",
      "Epoch 17/50\n",
      "\u001B[1m93/93\u001B[0m \u001B[32m━━━━━━━━━━━━━━━━━━━━\u001B[0m\u001B[37m\u001B[0m \u001B[1m3s\u001B[0m 37ms/step - loss: 2.2220e-04\n",
      "Epoch 18/50\n",
      "\u001B[1m93/93\u001B[0m \u001B[32m━━━━━━━━━━━━━━━━━━━━\u001B[0m\u001B[37m\u001B[0m \u001B[1m4s\u001B[0m 39ms/step - loss: 2.2554e-04\n",
      "Epoch 19/50\n",
      "\u001B[1m93/93\u001B[0m \u001B[32m━━━━━━━━━━━━━━━━━━━━\u001B[0m\u001B[37m\u001B[0m \u001B[1m3s\u001B[0m 37ms/step - loss: 2.5639e-04\n",
      "Epoch 20/50\n",
      "\u001B[1m93/93\u001B[0m \u001B[32m━━━━━━━━━━━━━━━━━━━━\u001B[0m\u001B[37m\u001B[0m \u001B[1m4s\u001B[0m 39ms/step - loss: 2.4228e-04\n",
      "Epoch 21/50\n",
      "\u001B[1m93/93\u001B[0m \u001B[32m━━━━━━━━━━━━━━━━━━━━\u001B[0m\u001B[37m\u001B[0m \u001B[1m4s\u001B[0m 38ms/step - loss: 2.3523e-04\n",
      "Epoch 22/50\n",
      "\u001B[1m93/93\u001B[0m \u001B[32m━━━━━━━━━━━━━━━━━━━━\u001B[0m\u001B[37m\u001B[0m \u001B[1m3s\u001B[0m 36ms/step - loss: 2.6496e-04\n",
      "Epoch 23/50\n",
      "\u001B[1m93/93\u001B[0m \u001B[32m━━━━━━━━━━━━━━━━━━━━\u001B[0m\u001B[37m\u001B[0m \u001B[1m4s\u001B[0m 38ms/step - loss: 1.6899e-04\n",
      "Epoch 24/50\n",
      "\u001B[1m93/93\u001B[0m \u001B[32m━━━━━━━━━━━━━━━━━━━━\u001B[0m\u001B[37m\u001B[0m \u001B[1m4s\u001B[0m 39ms/step - loss: 2.5345e-04\n",
      "Epoch 25/50\n",
      "\u001B[1m93/93\u001B[0m \u001B[32m━━━━━━━━━━━━━━━━━━━━\u001B[0m\u001B[37m\u001B[0m \u001B[1m3s\u001B[0m 36ms/step - loss: 1.7292e-04\n",
      "Epoch 26/50\n",
      "\u001B[1m93/93\u001B[0m \u001B[32m━━━━━━━━━━━━━━━━━━━━\u001B[0m\u001B[37m\u001B[0m \u001B[1m4s\u001B[0m 39ms/step - loss: 2.0090e-04\n",
      "Epoch 27/50\n",
      "\u001B[1m93/93\u001B[0m \u001B[32m━━━━━━━━━━━━━━━━━━━━\u001B[0m\u001B[37m\u001B[0m \u001B[1m3s\u001B[0m 36ms/step - loss: 2.5956e-04\n",
      "Epoch 28/50\n",
      "\u001B[1m93/93\u001B[0m \u001B[32m━━━━━━━━━━━━━━━━━━━━\u001B[0m\u001B[37m\u001B[0m \u001B[1m4s\u001B[0m 38ms/step - loss: 1.8415e-04\n",
      "Epoch 29/50\n",
      "\u001B[1m93/93\u001B[0m \u001B[32m━━━━━━━━━━━━━━━━━━━━\u001B[0m\u001B[37m\u001B[0m \u001B[1m3s\u001B[0m 36ms/step - loss: 1.7751e-04\n",
      "Epoch 30/50\n",
      "\u001B[1m93/93\u001B[0m \u001B[32m━━━━━━━━━━━━━━━━━━━━\u001B[0m\u001B[37m\u001B[0m \u001B[1m4s\u001B[0m 39ms/step - loss: 1.4998e-04\n",
      "Epoch 31/50\n",
      "\u001B[1m93/93\u001B[0m \u001B[32m━━━━━━━━━━━━━━━━━━━━\u001B[0m\u001B[37m\u001B[0m \u001B[1m3s\u001B[0m 36ms/step - loss: 1.6943e-04\n",
      "Epoch 32/50\n",
      "\u001B[1m93/93\u001B[0m \u001B[32m━━━━━━━━━━━━━━━━━━━━\u001B[0m\u001B[37m\u001B[0m \u001B[1m3s\u001B[0m 36ms/step - loss: 1.8057e-04\n",
      "Epoch 33/50\n",
      "\u001B[1m93/93\u001B[0m \u001B[32m━━━━━━━━━━━━━━━━━━━━\u001B[0m\u001B[37m\u001B[0m \u001B[1m4s\u001B[0m 39ms/step - loss: 1.5575e-04\n",
      "Epoch 34/50\n",
      "\u001B[1m93/93\u001B[0m \u001B[32m━━━━━━━━━━━━━━━━━━━━\u001B[0m\u001B[37m\u001B[0m \u001B[1m3s\u001B[0m 37ms/step - loss: 1.4731e-04\n",
      "Epoch 35/50\n",
      "\u001B[1m93/93\u001B[0m \u001B[32m━━━━━━━━━━━━━━━━━━━━\u001B[0m\u001B[37m\u001B[0m \u001B[1m4s\u001B[0m 39ms/step - loss: 1.7147e-04\n",
      "Epoch 36/50\n",
      "\u001B[1m93/93\u001B[0m \u001B[32m━━━━━━━━━━━━━━━━━━━━\u001B[0m\u001B[37m\u001B[0m \u001B[1m3s\u001B[0m 37ms/step - loss: 1.3693e-04\n",
      "Epoch 37/50\n",
      "\u001B[1m93/93\u001B[0m \u001B[32m━━━━━━━━━━━━━━━━━━━━\u001B[0m\u001B[37m\u001B[0m \u001B[1m3s\u001B[0m 36ms/step - loss: 1.7030e-04\n",
      "Epoch 38/50\n",
      "\u001B[1m93/93\u001B[0m \u001B[32m━━━━━━━━━━━━━━━━━━━━\u001B[0m\u001B[37m\u001B[0m \u001B[1m4s\u001B[0m 39ms/step - loss: 1.9369e-04\n",
      "Epoch 39/50\n",
      "\u001B[1m93/93\u001B[0m \u001B[32m━━━━━━━━━━━━━━━━━━━━\u001B[0m\u001B[37m\u001B[0m \u001B[1m3s\u001B[0m 36ms/step - loss: 2.1422e-04\n",
      "Epoch 40/50\n",
      "\u001B[1m93/93\u001B[0m \u001B[32m━━━━━━━━━━━━━━━━━━━━\u001B[0m\u001B[37m\u001B[0m \u001B[1m4s\u001B[0m 38ms/step - loss: 2.0636e-04\n",
      "Epoch 41/50\n",
      "\u001B[1m93/93\u001B[0m \u001B[32m━━━━━━━━━━━━━━━━━━━━\u001B[0m\u001B[37m\u001B[0m \u001B[1m3s\u001B[0m 36ms/step - loss: 1.4176e-04\n",
      "Epoch 42/50\n",
      "\u001B[1m93/93\u001B[0m \u001B[32m━━━━━━━━━━━━━━━━━━━━\u001B[0m\u001B[37m\u001B[0m \u001B[1m4s\u001B[0m 39ms/step - loss: 2.0476e-04\n",
      "Epoch 43/50\n",
      "\u001B[1m93/93\u001B[0m \u001B[32m━━━━━━━━━━━━━━━━━━━━\u001B[0m\u001B[37m\u001B[0m \u001B[1m3s\u001B[0m 37ms/step - loss: 1.2985e-04\n",
      "Epoch 44/50\n",
      "\u001B[1m93/93\u001B[0m \u001B[32m━━━━━━━━━━━━━━━━━━━━\u001B[0m\u001B[37m\u001B[0m \u001B[1m3s\u001B[0m 36ms/step - loss: 1.6088e-04\n",
      "Epoch 45/50\n",
      "\u001B[1m93/93\u001B[0m \u001B[32m━━━━━━━━━━━━━━━━━━━━\u001B[0m\u001B[37m\u001B[0m \u001B[1m4s\u001B[0m 39ms/step - loss: 1.7454e-04\n",
      "Epoch 46/50\n",
      "\u001B[1m93/93\u001B[0m \u001B[32m━━━━━━━━━━━━━━━━━━━━\u001B[0m\u001B[37m\u001B[0m \u001B[1m3s\u001B[0m 37ms/step - loss: 1.3715e-04\n",
      "Epoch 47/50\n",
      "\u001B[1m93/93\u001B[0m \u001B[32m━━━━━━━━━━━━━━━━━━━━\u001B[0m\u001B[37m\u001B[0m \u001B[1m4s\u001B[0m 38ms/step - loss: 1.1222e-04\n",
      "Epoch 48/50\n",
      "\u001B[1m93/93\u001B[0m \u001B[32m━━━━━━━━━━━━━━━━━━━━\u001B[0m\u001B[37m\u001B[0m \u001B[1m3s\u001B[0m 36ms/step - loss: 1.5158e-04\n",
      "Epoch 49/50\n",
      "\u001B[1m93/93\u001B[0m \u001B[32m━━━━━━━━━━━━━━━━━━━━\u001B[0m\u001B[37m\u001B[0m \u001B[1m3s\u001B[0m 36ms/step - loss: 1.7449e-04\n",
      "Epoch 50/50\n",
      "\u001B[1m93/93\u001B[0m \u001B[32m━━━━━━━━━━━━━━━━━━━━\u001B[0m\u001B[37m\u001B[0m \u001B[1m4s\u001B[0m 39ms/step - loss: 1.0906e-04\n"
     ]
    },
    {
     "data": {
      "text/plain": [
       "<keras.src.callbacks.history.History at 0x32053ca90>"
      ]
     },
     "execution_count": 113,
     "metadata": {},
     "output_type": "execute_result"
    }
   ],
   "execution_count": 113
  },
  {
   "metadata": {
    "ExecuteTime": {
     "end_time": "2025-04-11T22:31:55.897504Z",
     "start_time": "2025-04-11T22:31:55.878833Z"
    }
   },
   "cell_type": "code",
   "source": [
    "new_data = pd.read_csv(\"New_data2.csv\", sep=\",\")\n",
    "new_data.columns"
   ],
   "id": "73a909f2220b8eb9",
   "outputs": [
    {
     "data": {
      "text/plain": [
       "Index(['Date', 'Open', 'High', 'Low', 'Close', 'Volume', 'Name'], dtype='object')"
      ]
     },
     "execution_count": 100,
     "metadata": {},
     "output_type": "execute_result"
    }
   ],
   "execution_count": 100
  },
  {
   "metadata": {
    "ExecuteTime": {
     "end_time": "2025-04-11T23:25:48.672692Z",
     "start_time": "2025-04-11T23:25:48.613895Z"
    }
   },
   "cell_type": "code",
   "source": [
    "# Preparar los datos reales de 2024 para comparación\n",
    "real_data_2017 = pd.read_csv(\"New_data2.csv\", index_col='Date', parse_dates=True)\n",
    "real_data_2017 = real_data_2017[[\"Open\",'High', 'Low', 'Close', 'Volume']]\n",
    "real_data_2017.replace(['---', '               ---', 'NaN', '', ' '], np.nan, inplace=True)\n",
    "real_data_2017 = pd.DataFrame(imputer.transform(real_data_2017), columns=real_data_2017.columns, index=real_data_2017.index)\n",
    "real_scaled = scaler.transform(real_data_2017)\n"
   ],
   "id": "2090cfff97a97e9d",
   "outputs": [],
   "execution_count": 114
  },
  {
   "metadata": {
    "ExecuteTime": {
     "end_time": "2025-04-11T23:31:19.510671Z",
     "start_time": "2025-04-11T23:31:19.346996Z"
    }
   },
   "cell_type": "code",
   "source": [
    "# Crear datos de entrada para predicción\n",
    "X_real, _ = create_dataset(np.vstack([train_scaled[-60:], real_scaled]), 60)\n",
    "\n",
    "# Predicciones\n",
    "predictions_scaled = model.predict(X_real)\n",
    "fake_full = np.zeros((len(predictions_scaled), real_scaled.shape[1]))\n",
    "fake_full[:, 3] = predictions_scaled[:, 0]\n",
    "predictions = scaler.inverse_transform(fake_full)[:, 3]\n",
    "\n",
    "# Datos reales para comparar\n",
    "real_demand = scaler.inverse_transform(real_scaled)[:, 0]\n"
   ],
   "id": "36752e23f6ef2c11",
   "outputs": [
    {
     "name": "stdout",
     "output_type": "stream",
     "text": [
      "\u001B[1m8/8\u001B[0m \u001B[32m━━━━━━━━━━━━━━━━━━━━\u001B[0m\u001B[37m\u001B[0m \u001B[1m0s\u001B[0m 12ms/step\n"
     ]
    }
   ],
   "execution_count": 118
  },
  {
   "metadata": {
    "ExecuteTime": {
     "end_time": "2025-04-12T04:07:08.111642Z",
     "start_time": "2025-04-12T04:07:07.987338Z"
    }
   },
   "cell_type": "code",
   "source": [
    "# Graficar\n",
    "plt.figure(figsize=(14, 7))\n",
    "plt.plot(real_data_2017.index, real_demand, label='Datos Reales 2017', color='blue')\n",
    "plt.plot(real_data_2017.index[:len(predictions)], predictions, label='Predicciones 2017', color='red')\n",
    "plt.title('Predicciones vs Datos Reales AAPL 2017')\n",
    "plt.xlabel('Fecha')\n",
    "plt.ylabel('Close')\n",
    "plt.legend()\n",
    "plt.grid(True)\n",
    "plt.show()\n"
   ],
   "id": "99a5bbdc9461091c",
   "outputs": [
    {
     "data": {
      "text/plain": [
       "<Figure size 1400x700 with 1 Axes>"
      ],
      "image/png": "[encoded data removed]"
     },
     "metadata": {},
     "output_type": "display_data"
    }
   ],
   "execution_count": 121
  },
  {
   "metadata": {
    "ExecuteTime": {
     "end_time": "2025-04-12T04:13:09.620296Z",
     "start_time": "2025-04-12T04:13:09.597271Z"
    }
   },
   "cell_type": "code",
   "source": [
    "import plotly.graph_objects as go\n",
    "import pandas as pd\n",
    "from sklearn.metrics import r2_score\n",
    "\n",
    "# Asegurarse de que tanto 'real_demand' como 'predictions' tienen el mismo índice de tiempo\n",
    "real_demand = pd.Series(real_demand[:len(predictions)], index=real_data_2017.index[:len(predictions)])\n",
    "predictions_series = pd.Series(predictions, index=real_data_2017.index[:len(predictions)])\n",
    "\n",
    "# Crear una lista para almacenar los R-squared de cada mes\n",
    "r_squared_monthly = []\n",
    "\n",
    "# Agrupar los datos por mes y calcular el R-squared para cada mes\n",
    "for month, group in real_demand.groupby(real_demand.index.month):\n",
    "    # Extraer las predicciones correspondientes para ese mes\n",
    "    pred_for_month = predictions_series[group.index]\n",
    "\n",
    "    # Calcular el R-squared\n",
    "    r_squared = r2_score(group, pred_for_month)\n",
    "\n",
    "    # Almacenar el resultado\n",
    "    r_squared_monthly.append((month, r_squared))\n",
    "    print(f'R-squared para el mes {month}: {r_squared}')\n",
    "\n",
    "# Crear la figura usando Plotly para una mejor interactividad y presentación\n",
    "fig = go.Figure()\n",
    "\n",
    "# Añadir los datos reales a la gráfica\n",
    "fig.add_trace(go.Scatter(x=real_data_2017.index, y=real_demand, mode='lines', name='Datos Reales 2017', line=dict(color='blue')))\n",
    "\n",
    "# Añadir las predicciones a la gráfica\n",
    "fig.add_trace(go.Scatter(x=real_data_2017.index[:len(predictions)], y=predictions, mode='lines', name='Predicciones 2017', line=dict(color='red')))\n",
    "\n",
    "# Configuración adicional del gráfico\n",
    "fig.update_layout(\n",
    "    title='Comparación de Predicciones vs Datos Reales AAPL 2017',\n",
    "    xaxis_title='Fecha',\n",
    "    yaxis_title='Close',\n",
    "    legend_title='Leyenda'\n",
    ")\n",
    "\n",
    "# Mostrar la gráfica\n",
    "fig.show()\n",
    "\n",
    "# Imprimir los R-squared mensuales\n",
    "for month, r_squared in r_squared_monthly:\n",
    "    print(f\"R-squared para el mes {month}: {r_squared:.4f}\")"
   ],
   "id": "e5c48a5333ab4697",
   "outputs": [
    {
     "name": "stdout",
     "output_type": "stream",
     "text": [
      "R-squared para el mes 1: -76.08490588422889\n",
      "R-squared para el mes 2: 0.6836190397002327\n",
      "R-squared para el mes 3: 0.35550939598253095\n",
      "R-squared para el mes 4: -1.214359903753829\n",
      "R-squared para el mes 5: 0.9018702223833069\n",
      "R-squared para el mes 6: 0.6493317789128511\n",
      "R-squared para el mes 7: 0.7705116497428695\n",
      "R-squared para el mes 8: 0.5032546859245381\n",
      "R-squared para el mes 9: 0.7804622263589992\n",
      "R-squared para el mes 10: 0.7600962872110294\n",
      "R-squared para el mes 11: -0.8511554023439591\n",
      "R-squared para el mes 12: 0.3638749439604899\n"
     ]
    },
    {
     "data": {
      "application/vnd.plotly.v1+json": {
       "data": [
        {
         "line": {
          "color": "blue"
         },
         "mode": "lines",
         "name": "Datos Reales 2017",
         "x": [
          "2017-01-04T00:00:00.000000000",
          "2017-01-05T00:00:00.000000000",
          "2017-01-06T00:00:00.000000000",
          "2017-01-09T00:00:00.000000000",
          "2017-01-10T00:00:00.000000000",
          "2017-01-11T00:00:00.000000000",
          "2017-01-12T00:00:00.000000000",
          "2017-01-13T00:00:00.000000000",
          "2017-01-17T00:00:00.000000000",
          "2017-01-18T00:00:00.000000000",
          "2017-01-19T00:00:00.000000000",
          "2017-01-20T00:00:00.000000000",
          "2017-01-23T00:00:00.000000000",
          "2017-01-24T00:00:00.000000000",
          "2017-01-25T00:00:00.000000000",
          "2017-01-26T00:00:00.000000000",
          "2017-01-27T00:00:00.000000000",
          "2017-01-30T00:00:00.000000000",
          "2017-01-31T00:00:00.000000000",
          "2017-02-01T00:00:00.000000000",
          "2017-02-02T00:00:00.000000000",
          "2017-02-03T00:00:00.000000000",
          "2017-02-06T00:00:00.000000000",
          "2017-02-07T00:00:00.000000000",
          "2017-02-08T00:00:00.000000000",
          "2017-02-09T00:00:00.000000000",
          "2017-02-10T00:00:00.000000000",
          "2017-02-13T00:00:00.000000000",
          "2017-02-14T00:00:00.000000000",
          "2017-02-15T00:00:00.000000000",
          "2017-02-16T00:00:00.000000000",
          "2017-02-17T00:00:00.000000000",
          "2017-02-21T00:00:00.000000000",
          "2017-02-22T00:00:00.000000000",
          "2017-02-23T00:00:00.000000000",
          "2017-02-24T00:00:00.000000000",
          "2017-02-27T00:00:00.000000000",
          "2017-02-28T00:00:00.000000000",
          "2017-03-01T00:00:00.000000000",
          "2017-03-02T00:00:00.000000000",
          "2017-03-03T00:00:00.000000000",
          "2017-03-06T00:00:00.000000000",
          "2017-03-07T00:00:00.000000000",
          "2017-03-08T00:00:00.000000000",
          "2017-03-09T00:00:00.000000000",
          "2017-03-10T00:00:00.000000000",
          "2017-03-13T00:00:00.000000000",
          "2017-03-14T00:00:00.000000000",
          "2017-03-15T00:00:00.000000000",
          "2017-03-16T00:00:00.000000000",
          "2017-03-17T00:00:00.000000000",
          "2017-03-20T00:00:00.000000000",
          "2017-03-21T00:00:00.000000000",
          "2017-03-22T00:00:00.000000000",
          "2017-03-23T00:00:00.000000000",
          "2017-03-24T00:00:00.000000000",
          "2017-03-27T00:00:00.000000000",
          "2017-03-28T00:00:00.000000000",
          "2017-03-29T00:00:00.000000000",
          "2017-03-30T00:00:00.000000000",
          "2017-03-31T00:00:00.000000000",
          "2017-04-03T00:00:00.000000000",
          "2017-04-04T00:00:00.000000000",
          "2017-04-05T00:00:00.000000000",
          "2017-04-06T00:00:00.000000000",
          "2017-04-07T00:00:00.000000000",
          "2017-04-10T00:00:00.000000000",
          "2017-04-11T00:00:00.000000000",
          "2017-04-12T00:00:00.000000000",
          "2017-04-13T00:00:00.000000000",
          "2017-04-17T00:00:00.000000000",
          "2017-04-18T00:00:00.000000000",
          "2017-04-19T00:00:00.000000000",
          "2017-04-20T00:00:00.000000000",
          "2017-04-21T00:00:00.000000000",
          "2017-04-24T00:00:00.000000000",
          "2017-04-25T00:00:00.000000000",
          "2017-04-26T00:00:00.000000000",
          "2017-04-27T00:00:00.000000000",
          "2017-04-28T00:00:00.000000000",
          "2017-05-01T00:00:00.000000000",
          "2017-05-02T00:00:00.000000000",
          "2017-05-03T00:00:00.000000000",
          "2017-05-04T00:00:00.000000000",
          "2017-05-05T00:00:00.000000000",
          "2017-05-08T00:00:00.000000000",
          "2017-05-09T00:00:00.000000000",
          "2017-05-10T00:00:00.000000000",
          "2017-05-11T00:00:00.000000000",
          "2017-05-12T00:00:00.000000000",
          "2017-05-15T00:00:00.000000000",
          "2017-05-16T00:00:00.000000000",
          "2017-05-17T00:00:00.000000000",
          "2017-05-18T00:00:00.000000000",
          "2017-05-19T00:00:00.000000000",
          "2017-05-22T00:00:00.000000000",
          "2017-05-23T00:00:00.000000000",
          "2017-05-24T00:00:00.000000000",
          "2017-05-25T00:00:00.000000000",
          "2017-05-26T00:00:00.000000000",
          "2017-05-30T00:00:00.000000000",
          "2017-05-31T00:00:00.000000000",
          "2017-06-01T00:00:00.000000000",
          "2017-06-02T00:00:00.000000000",
          "2017-06-05T00:00:00.000000000",
          "2017-06-06T00:00:00.000000000",
          "2017-06-07T00:00:00.000000000",
          "2017-06-08T00:00:00.000000000",
          "2017-06-09T00:00:00.000000000",
          "2017-06-12T00:00:00.000000000",
          "2017-06-13T00:00:00.000000000",
          "2017-06-14T00:00:00.000000000",
          "2017-06-15T00:00:00.000000000",
          "2017-06-16T00:00:00.000000000",
          "2017-06-19T00:00:00.000000000",
          "2017-06-20T00:00:00.000000000",
          "2017-06-21T00:00:00.000000000",
          "2017-06-22T00:00:00.000000000",
          "2017-06-23T00:00:00.000000000",
          "2017-06-26T00:00:00.000000000",
          "2017-06-27T00:00:00.000000000",
          "2017-06-28T00:00:00.000000000",
          "2017-06-29T00:00:00.000000000",
          "2017-06-30T00:00:00.000000000",
          "2017-07-03T00:00:00.000000000",
          "2017-07-05T00:00:00.000000000",
          "2017-07-06T00:00:00.000000000",
          "2017-07-07T00:00:00.000000000",
          "2017-07-10T00:00:00.000000000",
          "2017-07-11T00:00:00.000000000",
          "2017-07-12T00:00:00.000000000",
          "2017-07-13T00:00:00.000000000",
          "2017-07-14T00:00:00.000000000",
          "2017-07-17T00:00:00.000000000",
          "2017-07-18T00:00:00.000000000",
          "2017-07-19T00:00:00.000000000",
          "2017-07-20T00:00:00.000000000",
          "2017-07-21T00:00:00.000000000",
          "2017-07-24T00:00:00.000000000",
          "2017-07-25T00:00:00.000000000",
          "2017-07-26T00:00:00.000000000",
          "2017-07-27T00:00:00.000000000",
          "2017-07-28T00:00:00.000000000",
          "2017-07-31T00:00:00.000000000",
          "2017-08-01T00:00:00.000000000",
          "2017-08-02T00:00:00.000000000",
          "2017-08-03T00:00:00.000000000",
          "2017-08-04T00:00:00.000000000",
          "2017-08-07T00:00:00.000000000",
          "2017-08-08T00:00:00.000000000",
          "2017-08-09T00:00:00.000000000",
          "2017-08-10T00:00:00.000000000",
          "2017-08-11T00:00:00.000000000",
          "2017-08-14T00:00:00.000000000",
          "2017-08-15T00:00:00.000000000",
          "2017-08-16T00:00:00.000000000",
          "2017-08-17T00:00:00.000000000",
          "2017-08-18T00:00:00.000000000",
          "2017-08-21T00:00:00.000000000",
          "2017-08-22T00:00:00.000000000",
          "2017-08-23T00:00:00.000000000",
          "2017-08-24T00:00:00.000000000",
          "2017-08-25T00:00:00.000000000",
          "2017-08-28T00:00:00.000000000",
          "2017-08-29T00:00:00.000000000",
          "2017-08-30T00:00:00.000000000",
          "2017-08-31T00:00:00.000000000",
          "2017-09-01T00:00:00.000000000",
          "2017-09-05T00:00:00.000000000",
          "2017-09-06T00:00:00.000000000",
          "2017-09-07T00:00:00.000000000",
          "2017-09-08T00:00:00.000000000",
          "2017-09-11T00:00:00.000000000",
          "2017-09-12T00:00:00.000000000",
          "2017-09-13T00:00:00.000000000",
          "2017-09-14T00:00:00.000000000",
          "2017-09-15T00:00:00.000000000",
          "2017-09-18T00:00:00.000000000",
          "2017-09-19T00:00:00.000000000",
          "2017-09-20T00:00:00.000000000",
          "2017-09-21T00:00:00.000000000",
          "2017-09-22T00:00:00.000000000",
          "2017-09-25T00:00:00.000000000",
          "2017-09-26T00:00:00.000000000",
          "2017-09-27T00:00:00.000000000",
          "2017-09-28T00:00:00.000000000",
          "2017-09-29T00:00:00.000000000",
          "2017-10-02T00:00:00.000000000",
          "2017-10-03T00:00:00.000000000",
          "2017-10-04T00:00:00.000000000",
          "2017-10-05T00:00:00.000000000",
          "2017-10-06T00:00:00.000000000",
          "2017-10-09T00:00:00.000000000",
          "2017-10-10T00:00:00.000000000",
          "2017-10-11T00:00:00.000000000",
          "2017-10-12T00:00:00.000000000",
          "2017-10-13T00:00:00.000000000",
          "2017-10-16T00:00:00.000000000",
          "2017-10-17T00:00:00.000000000",
          "2017-10-18T00:00:00.000000000",
          "2017-10-19T00:00:00.000000000",
          "2017-10-20T00:00:00.000000000",
          "2017-10-23T00:00:00.000000000",
          "2017-10-24T00:00:00.000000000",
          "2017-10-25T00:00:00.000000000",
          "2017-10-26T00:00:00.000000000",
          "2017-10-27T00:00:00.000000000",
          "2017-10-30T00:00:00.000000000",
          "2017-10-31T00:00:00.000000000",
          "2017-11-01T00:00:00.000000000",
          "2017-11-02T00:00:00.000000000",
          "2017-11-03T00:00:00.000000000",
          "2017-11-06T00:00:00.000000000",
          "2017-11-07T00:00:00.000000000",
          "2017-11-08T00:00:00.000000000",
          "2017-11-09T00:00:00.000000000",
          "2017-11-10T00:00:00.000000000",
          "2017-11-13T00:00:00.000000000",
          "2017-11-14T00:00:00.000000000",
          "2017-11-15T00:00:00.000000000",
          "2017-11-16T00:00:00.000000000",
          "2017-11-17T00:00:00.000000000",
          "2017-11-20T00:00:00.000000000",
          "2017-11-21T00:00:00.000000000",
          "2017-11-22T00:00:00.000000000",
          "2017-11-24T00:00:00.000000000",
          "2017-11-27T00:00:00.000000000",
          "2017-11-28T00:00:00.000000000",
          "2017-11-29T00:00:00.000000000",
          "2017-11-30T00:00:00.000000000",
          "2017-12-01T00:00:00.000000000",
          "2017-12-04T00:00:00.000000000",
          "2017-12-05T00:00:00.000000000",
          "2017-12-06T00:00:00.000000000",
          "2017-12-07T00:00:00.000000000",
          "2017-12-08T00:00:00.000000000",
          "2017-12-11T00:00:00.000000000",
          "2017-12-12T00:00:00.000000000",
          "2017-12-13T00:00:00.000000000",
          "2017-12-14T00:00:00.000000000",
          "2017-12-15T00:00:00.000000000",
          "2017-12-18T00:00:00.000000000",
          "2017-12-19T00:00:00.000000000",
          "2017-12-20T00:00:00.000000000",
          "2017-12-21T00:00:00.000000000",
          "2017-12-22T00:00:00.000000000",
          "2017-12-26T00:00:00.000000000",
          "2017-12-27T00:00:00.000000000",
          "2017-12-28T00:00:00.000000000",
          "2017-12-29T00:00:00.000000000"
         ],
         "y": {
          "dtype": "f8",
          "bdata": "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"
         },
         "type": "scatter"
        },
        {
         "line": {
          "color": "red"
         },
         "mode": "lines",
         "name": "Predicciones 2017",
         "x": [
          "2017-01-04T00:00:00.000000000",
          "2017-01-05T00:00:00.000000000",
          "2017-01-06T00:00:00.000000000",
          "2017-01-09T00:00:00.000000000",
          "2017-01-10T00:00:00.000000000",
          "2017-01-11T00:00:00.000000000",
          "2017-01-12T00:00:00.000000000",
          "2017-01-13T00:00:00.000000000",
          "2017-01-17T00:00:00.000000000",
          "2017-01-18T00:00:00.000000000",
          "2017-01-19T00:00:00.000000000",
          "2017-01-20T00:00:00.000000000",
          "2017-01-23T00:00:00.000000000",
          "2017-01-24T00:00:00.000000000",
          "2017-01-25T00:00:00.000000000",
          "2017-01-26T00:00:00.000000000",
          "2017-01-27T00:00:00.000000000",
          "2017-01-30T00:00:00.000000000",
          "2017-01-31T00:00:00.000000000",
          "2017-02-01T00:00:00.000000000",
          "2017-02-02T00:00:00.000000000",
          "2017-02-03T00:00:00.000000000",
          "2017-02-06T00:00:00.000000000",
          "2017-02-07T00:00:00.000000000",
          "2017-02-08T00:00:00.000000000",
          "2017-02-09T00:00:00.000000000",
          "2017-02-10T00:00:00.000000000",
          "2017-02-13T00:00:00.000000000",
          "2017-02-14T00:00:00.000000000",
          "2017-02-15T00:00:00.000000000",
          "2017-02-16T00:00:00.000000000",
          "2017-02-17T00:00:00.000000000",
          "2017-02-21T00:00:00.000000000",
          "2017-02-22T00:00:00.000000000",
          "2017-02-23T00:00:00.000000000",
          "2017-02-24T00:00:00.000000000",
          "2017-02-27T00:00:00.000000000",
          "2017-02-28T00:00:00.000000000",
          "2017-03-01T00:00:00.000000000",
          "2017-03-02T00:00:00.000000000",
          "2017-03-03T00:00:00.000000000",
          "2017-03-06T00:00:00.000000000",
          "2017-03-07T00:00:00.000000000",
          "2017-03-08T00:00:00.000000000",
          "2017-03-09T00:00:00.000000000",
          "2017-03-10T00:00:00.000000000",
          "2017-03-13T00:00:00.000000000",
          "2017-03-14T00:00:00.000000000",
          "2017-03-15T00:00:00.000000000",
          "2017-03-16T00:00:00.000000000",
          "2017-03-17T00:00:00.000000000",
          "2017-03-20T00:00:00.000000000",
          "2017-03-21T00:00:00.000000000",
          "2017-03-22T00:00:00.000000000",
          "2017-03-23T00:00:00.000000000",
          "2017-03-24T00:00:00.000000000",
          "2017-03-27T00:00:00.000000000",
          "2017-03-28T00:00:00.000000000",
          "2017-03-29T00:00:00.000000000",
          "2017-03-30T00:00:00.000000000",
          "2017-03-31T00:00:00.000000000",
          "2017-04-03T00:00:00.000000000",
          "2017-04-04T00:00:00.000000000",
          "2017-04-05T00:00:00.000000000",
          "2017-04-06T00:00:00.000000000",
          "2017-04-07T00:00:00.000000000",
          "2017-04-10T00:00:00.000000000",
          "2017-04-11T00:00:00.000000000",
          "2017-04-12T00:00:00.000000000",
          "2017-04-13T00:00:00.000000000",
          "2017-04-17T00:00:00.000000000",
          "2017-04-18T00:00:00.000000000",
          "2017-04-19T00:00:00.000000000",
          "2017-04-20T00:00:00.000000000",
          "2017-04-21T00:00:00.000000000",
          "2017-04-24T00:00:00.000000000",
          "2017-04-25T00:00:00.000000000",
          "2017-04-26T00:00:00.000000000",
          "2017-04-27T00:00:00.000000000",
          "2017-04-28T00:00:00.000000000",
          "2017-05-01T00:00:00.000000000",
          "2017-05-02T00:00:00.000000000",
          "2017-05-03T00:00:00.000000000",
          "2017-05-04T00:00:00.000000000",
          "2017-05-05T00:00:00.000000000",
          "2017-05-08T00:00:00.000000000",
          "2017-05-09T00:00:00.000000000",
          "2017-05-10T00:00:00.000000000",
          "2017-05-11T00:00:00.000000000",
          "2017-05-12T00:00:00.000000000",
          "2017-05-15T00:00:00.000000000",
          "2017-05-16T00:00:00.000000000",
          "2017-05-17T00:00:00.000000000",
          "2017-05-18T00:00:00.000000000",
          "2017-05-19T00:00:00.000000000",
          "2017-05-22T00:00:00.000000000",
          "2017-05-23T00:00:00.000000000",
          "2017-05-24T00:00:00.000000000",
          "2017-05-25T00:00:00.000000000",
          "2017-05-26T00:00:00.000000000",
          "2017-05-30T00:00:00.000000000",
          "2017-05-31T00:00:00.000000000",
          "2017-06-01T00:00:00.000000000",
          "2017-06-02T00:00:00.000000000",
          "2017-06-05T00:00:00.000000000",
          "2017-06-06T00:00:00.000000000",
          "2017-06-07T00:00:00.000000000",
          "2017-06-08T00:00:00.000000000",
          "2017-06-09T00:00:00.000000000",
          "2017-06-12T00:00:00.000000000",
          "2017-06-13T00:00:00.000000000",
          "2017-06-14T00:00:00.000000000",
          "2017-06-15T00:00:00.000000000",
          "2017-06-16T00:00:00.000000000",
          "2017-06-19T00:00:00.000000000",
          "2017-06-20T00:00:00.000000000",
          "2017-06-21T00:00:00.000000000",
          "2017-06-22T00:00:00.000000000",
          "2017-06-23T00:00:00.000000000",
          "2017-06-26T00:00:00.000000000",
          "2017-06-27T00:00:00.000000000",
          "2017-06-28T00:00:00.000000000",
          "2017-06-29T00:00:00.000000000",
          "2017-06-30T00:00:00.000000000",
          "2017-07-03T00:00:00.000000000",
          "2017-07-05T00:00:00.000000000",
          "2017-07-06T00:00:00.000000000",
          "2017-07-07T00:00:00.000000000",
          "2017-07-10T00:00:00.000000000",
          "2017-07-11T00:00:00.000000000",
          "2017-07-12T00:00:00.000000000",
          "2017-07-13T00:00:00.000000000",
          "2017-07-14T00:00:00.000000000",
          "2017-07-17T00:00:00.000000000",
          "2017-07-18T00:00:00.000000000",
          "2017-07-19T00:00:00.000000000",
          "2017-07-20T00:00:00.000000000",
          "2017-07-21T00:00:00.000000000",
          "2017-07-24T00:00:00.000000000",
          "2017-07-25T00:00:00.000000000",
          "2017-07-26T00:00:00.000000000",
          "2017-07-27T00:00:00.000000000",
          "2017-07-28T00:00:00.000000000",
          "2017-07-31T00:00:00.000000000",
          "2017-08-01T00:00:00.000000000",
          "2017-08-02T00:00:00.000000000",
          "2017-08-03T00:00:00.000000000",
          "2017-08-04T00:00:00.000000000",
          "2017-08-07T00:00:00.000000000",
          "2017-08-08T00:00:00.000000000",
          "2017-08-09T00:00:00.000000000",
          "2017-08-10T00:00:00.000000000",
          "2017-08-11T00:00:00.000000000",
          "2017-08-14T00:00:00.000000000",
          "2017-08-15T00:00:00.000000000",
          "2017-08-16T00:00:00.000000000",
          "2017-08-17T00:00:00.000000000",
          "2017-08-18T00:00:00.000000000",
          "2017-08-21T00:00:00.000000000",
          "2017-08-22T00:00:00.000000000",
          "2017-08-23T00:00:00.000000000",
          "2017-08-24T00:00:00.000000000",
          "2017-08-25T00:00:00.000000000",
          "2017-08-28T00:00:00.000000000",
          "2017-08-29T00:00:00.000000000",
          "2017-08-30T00:00:00.000000000",
          "2017-08-31T00:00:00.000000000",
          "2017-09-01T00:00:00.000000000",
          "2017-09-05T00:00:00.000000000",
          "2017-09-06T00:00:00.000000000",
          "2017-09-07T00:00:00.000000000",
          "2017-09-08T00:00:00.000000000",
          "2017-09-11T00:00:00.000000000",
          "2017-09-12T00:00:00.000000000",
          "2017-09-13T00:00:00.000000000",
          "2017-09-14T00:00:00.000000000",
          "2017-09-15T00:00:00.000000000",
          "2017-09-18T00:00:00.000000000",
          "2017-09-19T00:00:00.000000000",
          "2017-09-20T00:00:00.000000000",
          "2017-09-21T00:00:00.000000000",
          "2017-09-22T00:00:00.000000000",
          "2017-09-25T00:00:00.000000000",
          "2017-09-26T00:00:00.000000000",
          "2017-09-27T00:00:00.000000000",
          "2017-09-28T00:00:00.000000000",
          "2017-09-29T00:00:00.000000000",
          "2017-10-02T00:00:00.000000000",
          "2017-10-03T00:00:00.000000000",
          "2017-10-04T00:00:00.000000000",
          "2017-10-05T00:00:00.000000000",
          "2017-10-06T00:00:00.000000000",
          "2017-10-09T00:00:00.000000000",
          "2017-10-10T00:00:00.000000000",
          "2017-10-11T00:00:00.000000000",
          "2017-10-12T00:00:00.000000000",
          "2017-10-13T00:00:00.000000000",
          "2017-10-16T00:00:00.000000000",
          "2017-10-17T00:00:00.000000000",
          "2017-10-18T00:00:00.000000000",
          "2017-10-19T00:00:00.000000000",
          "2017-10-20T00:00:00.000000000",
          "2017-10-23T00:00:00.000000000",
          "2017-10-24T00:00:00.000000000",
          "2017-10-25T00:00:00.000000000",
          "2017-10-26T00:00:00.000000000",
          "2017-10-27T00:00:00.000000000",
          "2017-10-30T00:00:00.000000000",
          "2017-10-31T00:00:00.000000000",
          "2017-11-01T00:00:00.000000000",
          "2017-11-02T00:00:00.000000000",
          "2017-11-03T00:00:00.000000000",
          "2017-11-06T00:00:00.000000000",
          "2017-11-07T00:00:00.000000000",
          "2017-11-08T00:00:00.000000000",
          "2017-11-09T00:00:00.000000000",
          "2017-11-10T00:00:00.000000000",
          "2017-11-13T00:00:00.000000000",
          "2017-11-14T00:00:00.000000000",
          "2017-11-15T00:00:00.000000000",
          "2017-11-16T00:00:00.000000000",
          "2017-11-17T00:00:00.000000000",
          "2017-11-20T00:00:00.000000000",
          "2017-11-21T00:00:00.000000000",
          "2017-11-22T00:00:00.000000000",
          "2017-11-24T00:00:00.000000000",
          "2017-11-27T00:00:00.000000000",
          "2017-11-28T00:00:00.000000000",
          "2017-11-29T00:00:00.000000000",
          "2017-11-30T00:00:00.000000000",
          "2017-12-01T00:00:00.000000000",
          "2017-12-04T00:00:00.000000000",
          "2017-12-05T00:00:00.000000000",
          "2017-12-06T00:00:00.000000000",
          "2017-12-07T00:00:00.000000000",
          "2017-12-08T00:00:00.000000000",
          "2017-12-11T00:00:00.000000000",
          "2017-12-12T00:00:00.000000000",
          "2017-12-13T00:00:00.000000000",
          "2017-12-14T00:00:00.000000000",
          "2017-12-15T00:00:00.000000000",
          "2017-12-18T00:00:00.000000000",
          "2017-12-19T00:00:00.000000000",
          "2017-12-20T00:00:00.000000000",
          "2017-12-21T00:00:00.000000000",
          "2017-12-22T00:00:00.000000000",
          "2017-12-26T00:00:00.000000000",
          "2017-12-27T00:00:00.000000000",
          "2017-12-28T00:00:00.000000000",
          "2017-12-29T00:00:00.000000000"
         ],
         "y": {
          "dtype": "f8",
          "bdata": "R+EqDSQiZUA9Cnfr+P9gQPUobLel02BAcD16MfQEYEDB9Uh2+/hfQOB6NO5A7l9Abz1qZNPrX0BRuP7yDLlfQEbh2mnzn19AehSOT+uNX0C3HmV4L6NfQOpRGKb9i19AehQOJ/SUX0C3HsUcto9fQOpRmNP6aV9AZWZGtjmfX0AyM5MgMa9fQFG4vjYUrV9A1qMQ0lF/X0DMzKxRk2hfQP//bxxEYGBAKFw/+nlwYED1KBwciIBgQLgeddA4k2BA1qPALNiuYEAUrhenj8BgQFG4fj4KxmBA//9v7NnRYEBbj3L0W+RgQKNw7Usj/mBAuB6F6SAaYUDMzHyU3h1hQLgeRfeMImFA4XqkTyQ4YUCZmQnWIUBhQNajEGXiQmFArUfxT9g3YUBbj/LctkhhQHoUjmT/SWFAKFyvMYp+YUD//w/+qoZhQD0Kh4p2kWFAR+EqJTuOYUC4HqUq7ZRhQITrQekJjmFA9SisRUh7YUCjcA0lwJJhQEfhKr8JkGFAhOuhO6OUYUD1KAz1BaphQITrQegVu2FAwvW4hhG0YUC4HpXlwtNhQOF6JM9QwmFAo3DdNrvTYUCZmSn0jNJhQITrkVyq0WFA61HIqNPCYUBH4ar2VP5hQPUobNNlGGJAj8JVUXolYkDWo3DG8CFiQD0KV0uZImJACtdTC2EwYkBmZnafYTFiQMzMPIE/LmJAHoXbhHYoYkCPwhW79R9iQGZmhsg5+GFAZmYWAdX8YUDC9fi6ge5hQBSuN3M58WFA9ShM03bsYUAoXF+Ec+JhQDMzIzlw/GFAehTO22D9YUC4HtWLjyFiQNajwFbXMmJAhOtBduUrYkAUrncHyy9iQOtRyGAeK2JAUbgOiWRmYkAehduuEoNiQFuPEvxXdGJArUeRNluFYkBH4SpbOaNiQFG47iaN82JACtfTHW4xY0DhemTfuChjQHoUfqsJO2NAFK6XhY5rY0D1KOycs2xjQKNwXYm8cWNAhOuhYJESY0DMzJyGSTxjQPUo7CpMOGNAZmaGUUVKY0D//49El1FjQHoUXvH9QmNAehR+M6hOY0BmZrZu7EhjQOF6lNX3TWNAPQrnSOA9Y0AoXF8MgEBjQI/CFWxzYGNAMjPDcetQY0BmZkYxL2pjQD0KF2+1dWNAR+GKMaFxY0A9Cscunf9iQMzM3IrhnWJAhOtBk22/YkAoXM8npIViQB6FO5ZeZGJAuB5Vdt1MYkCPwnX6dYZiQHA9+tc4eWJArUchxfWBYkAehevgGINiQOF6REzphWJArUfxo0eSYkDrUejFP2FiQI/Ctd/fdGJAcD1q+JlIYkA9CmcKWl1iQHoUPpzMTGJAuB51b6dIYkAK1wMcYzBiQLgeRa0QSGJAKFzPLqhSYkA9CieiYmFiQGZmtsiwa2JACtejSm+RYkAK1/N+RrBiQB6FmzgIzGJAUbhurJLSYkD1KDyk0PFiQLgedR/v72JAW4/CRSnhYkDrUWiVZgpjQI/CZVA6HmNAo3DdNCs2Y0DrUQjhovZiQB6FOypJ8GJAehSOOwfTYkBwPRpHh9xiQOtRSDCHmmNAW4/ijQ9rY0AehQuGRJhjQI/CleqKtGNAehSO2z3XY0DMzIwvEPBjQBSuV+X9m2NAR+G6e+zHY0DMzFxC9OJjQBSud0s0CGRAKFxf4kYPZEDhekRekt9jQFG4Lqgb1GNAHoX7LdWyY0D1KIwFeOxjQITrEWDn6WNA1qOgct/wY0DWowC/aP1jQJmZqZOsFmRAKFy/sV0pZEDrUbg9+01kQMzMfF9VYGRA4XqkKcNrZEC4HoXP30FkQLgeZVKJRGRAR+FqGLUvZEDWoxBDZwRkQDIzQ1VhM2RAmZlJXm8fZEAUrvcM+w5kQGZm1sD//2NA//9vSgUHZED//6/AJQBkQB6F2w2u/mNAW48iQgW2Y0AoXD9Og5ljQP//L71hU2NAR+FquUU4Y0DMzNx8+mZjQArXU17GdWNAmZlpbkNqY0Bbj7IKN25jQD0KxzjgbmNArUeRlcp8Y0BbjzJHZ15jQGZmZvhvjGNArUfhRAuFY0CjcK2ua59jQPUobMCvoWNAcD3a3tGmY0CPwqVtf6ZjQOF6BORUs2NAMjNDKsbkY0DWo/BNpPljQFuPMnky/mNAPQonqOClY0CPwuVhJ8hjQBSu18EXqWNA61GIEfW4Y0BRuD75cKpjQBSu11nowmNAwvUodbodZEDC9XiAK3tkQJmZCUSVvWRAhOvBK12yZEBwPXqKksBkQITrwSuJNmVAR+GaTf8/ZUA9CleXlGllQAnXw1l4hWVAj8JFlvR4ZUDheiSrJINlQKNwbcWJbWVAHoVrcDJFZUCZmdnH7BFlQML16AUMPGVArUcBYcUWZUBwPXo4uxxlQOF6hMDyTGVACdfDMvppZUB6FP45+IRlQP//L/vQc2VAcD0qf3lrZUBRuI6aASFlQKNwnWzCRmVAo3A9J0goZUB6FH5EfjhlQLge1aPXImVAFK5XYeoFZUDhetSBWCJlQI/CpZ6NGGVA//9fHHRCZUBmZkYUeEplQOtR+IPoXWVAHoW7dnxaZUDWo+BsEHhlQK1H4R5SsGVAehT+pDqJZUDgeiR9opplQChcvyEqn2VAwvVY+RWbZUDhemTDFj9lQFuP8nvrUGVA61Gocn1IZUA="
         },
         "type": "scatter"
        }
       ],
       "layout": {
        "template": {
         "data": {
          "histogram2dcontour": [
           {
            "type": "histogram2dcontour",
            "colorbar": {
             "outlinewidth": 0,
             "ticks": ""
            },
            "colorscale": [
             [
              0.0,
              "#0d0887"
             ],
             [
              0.1111111111111111,
              "#46039f"
             ],
             [
              0.2222222222222222,
              "#7201a8"
             ],
             [
              0.3333333333333333,
              "#9c179e"
             ],
             [
              0.4444444444444444,
              "#bd3786"
             ],
             [
              0.5555555555555556,
              "#d8576b"
             ],
             [
              0.6666666666666666,
              "#ed7953"
             ],
             [
              0.7777777777777778,
              "#fb9f3a"
             ],
             [
              0.8888888888888888,
              "#fdca26"
             ],
             [
              1.0,
              "#f0f921"
             ]
            ]
           }
          ],
          "choropleth": [
           {
            "type": "choropleth",
            "colorbar": {
             "outlinewidth": 0,
             "ticks": ""
            }
           }
          ],
          "histogram2d": [
           {
            "type": "histogram2d",
            "colorbar": {
             "outlinewidth": 0,
             "ticks": ""
            },
            "colorscale": [
             [
              0.0,
              "#0d0887"
             ],
             [
              0.1111111111111111,
              "#46039f"
             ],
             [
              0.2222222222222222,
              "#7201a8"
             ],
             [
              0.3333333333333333,
              "#9c179e"
             ],
             [
              0.4444444444444444,
              "#bd3786"
             ],
             [
              0.5555555555555556,
              "#d8576b"
             ],
             [
              0.6666666666666666,
              "#ed7953"
             ],
             [
              0.7777777777777778,
              "#fb9f3a"
             ],
             [
              0.8888888888888888,
              "#fdca26"
             ],
             [
              1.0,
              "#f0f921"
             ]
            ]
           }
          ],
          "heatmap": [
           {
            "type": "heatmap",
            "colorbar": {
             "outlinewidth": 0,
             "ticks": ""
            },
            "colorscale": [
             [
              0.0,
              "#0d0887"
             ],
             [
              0.1111111111111111,
              "#46039f"
             ],
             [
              0.2222222222222222,
              "#7201a8"
             ],
             [
              0.3333333333333333,
              "#9c179e"
             ],
             [
              0.4444444444444444,
              "#bd3786"
             ],
             [
              0.5555555555555556,
              "#d8576b"
             ],
             [
              0.6666666666666666,
              "#ed7953"
             ],
             [
              0.7777777777777778,
              "#fb9f3a"
             ],
             [
              0.8888888888888888,
              "#fdca26"
             ],
             [
              1.0,
              "#f0f921"
             ]
            ]
           }
          ],
          "contourcarpet": [
           {
            "type": "contourcarpet",
            "colorbar": {
             "outlinewidth": 0,
             "ticks": ""
            }
           }
          ],
          "contour": [
           {
            "type": "contour",
            "colorbar": {
             "outlinewidth": 0,
             "ticks": ""
            },
            "colorscale": [
             [
              0.0,
              "#0d0887"
             ],
             [
              0.1111111111111111,
              "#46039f"
             ],
             [
              0.2222222222222222,
              "#7201a8"
             ],
             [
              0.3333333333333333,
              "#9c179e"
             ],
             [
              0.4444444444444444,
              "#bd3786"
             ],
             [
              0.5555555555555556,
              "#d8576b"
             ],
             [
              0.6666666666666666,
              "#ed7953"
             ],
             [
              0.7777777777777778,
              "#fb9f3a"
             ],
             [
              0.8888888888888888,
              "#fdca26"
             ],
             [
              1.0,
              "#f0f921"
             ]
            ]
           }
          ],
          "surface": [
           {
            "type": "surface",
            "colorbar": {
             "outlinewidth": 0,
             "ticks": ""
            },
            "colorscale": [
             [
              0.0,
              "#0d0887"
             ],
             [
              0.1111111111111111,
              "#46039f"
             ],
             [
              0.2222222222222222,
              "#7201a8"
             ],
             [
              0.3333333333333333,
              "#9c179e"
             ],
             [
              0.4444444444444444,
              "#bd3786"
             ],
             [
              0.5555555555555556,
              "#d8576b"
             ],
             [
              0.6666666666666666,
              "#ed7953"
             ],
             [
              0.7777777777777778,
              "#fb9f3a"
             ],
             [
              0.8888888888888888,
              "#fdca26"
             ],
             [
              1.0,
              "#f0f921"
             ]
            ]
           }
          ],
          "mesh3d": [
           {
            "type": "mesh3d",
            "colorbar": {
             "outlinewidth": 0,
             "ticks": ""
            }
           }
          ],
          "scatter": [
           {
            "fillpattern": {
             "fillmode": "overlay",
             "size": 10,
             "solidity": 0.2
            },
            "type": "scatter"
           }
          ],
          "parcoords": [
           {
            "type": "parcoords",
            "line": {
             "colorbar": {
              "outlinewidth": 0,
              "ticks": ""
             }
            }
           }
          ],
          "scatterpolargl": [
           {
            "type": "scatterpolargl",
            "marker": {
             "colorbar": {
              "outlinewidth": 0,
              "ticks": ""
             }
            }
           }
          ],
          "bar": [
           {
            "error_x": {
             "color": "#2a3f5f"
            },
            "error_y": {
             "color": "#2a3f5f"
            },
            "marker": {
             "line": {
              "color": "#E5ECF6",
              "width": 0.5
             },
             "pattern": {
              "fillmode": "overlay",
              "size": 10,
              "solidity": 0.2
             }
            },
            "type": "bar"
           }
          ],
          "scattergeo": [
           {
            "type": "scattergeo",
            "marker": {
             "colorbar": {
              "outlinewidth": 0,
              "ticks": ""
             }
            }
           }
          ],
          "scatterpolar": [
           {
            "type": "scatterpolar",
            "marker": {
             "colorbar": {
              "outlinewidth": 0,
              "ticks": ""
             }
            }
           }
          ],
          "histogram": [
           {
            "marker": {
             "pattern": {
              "fillmode": "overlay",
              "size": 10,
              "solidity": 0.2
             }
            },
            "type": "histogram"
           }
          ],
          "scattergl": [
           {
            "type": "scattergl",
            "marker": {
             "colorbar": {
              "outlinewidth": 0,
              "ticks": ""
             }
            }
           }
          ],
          "scatter3d": [
           {
            "type": "scatter3d",
            "line": {
             "colorbar": {
              "outlinewidth": 0,
              "ticks": ""
             }
            },
            "marker": {
             "colorbar": {
              "outlinewidth": 0,
              "ticks": ""
             }
            }
           }
          ],
          "scattermap": [
           {
            "type": "scattermap",
            "marker": {
             "colorbar": {
              "outlinewidth": 0,
              "ticks": ""
             }
            }
           }
          ],
          "scattermapbox": [
           {
            "type": "scattermapbox",
            "marker": {
             "colorbar": {
              "outlinewidth": 0,
              "ticks": ""
             }
            }
           }
          ],
          "scatterternary": [
           {
            "type": "scatterternary",
            "marker": {
             "colorbar": {
              "outlinewidth": 0,
              "ticks": ""
             }
            }
           }
          ],
          "scattercarpet": [
           {
            "type": "scattercarpet",
            "marker": {
             "colorbar": {
              "outlinewidth": 0,
              "ticks": ""
             }
            }
           }
          ],
          "carpet": [
           {
            "aaxis": {
             "endlinecolor": "#2a3f5f",
             "gridcolor": "white",
             "linecolor": "white",
             "minorgridcolor": "white",
             "startlinecolor": "#2a3f5f"
            },
            "baxis": {
             "endlinecolor": "#2a3f5f",
             "gridcolor": "white",
             "linecolor": "white",
             "minorgridcolor": "white",
             "startlinecolor": "#2a3f5f"
            },
            "type": "carpet"
           }
          ],
          "table": [
           {
            "cells": {
             "fill": {
              "color": "#EBF0F8"
             },
             "line": {
              "color": "white"
             }
            },
            "header": {
             "fill": {
              "color": "#C8D4E3"
             },
             "line": {
              "color": "white"
             }
            },
            "type": "table"
           }
          ],
          "barpolar": [
           {
            "marker": {
             "line": {
              "color": "#E5ECF6",
              "width": 0.5
             },
             "pattern": {
              "fillmode": "overlay",
              "size": 10,
              "solidity": 0.2
             }
            },
            "type": "barpolar"
           }
          ],
          "pie": [
           {
            "automargin": true,
            "type": "pie"
           }
          ]
         },
         "layout": {
          "autotypenumbers": "strict",
          "colorway": [
           "#636efa",
           "#EF553B",
           "#00cc96",
           "#ab63fa",
           "#FFA15A",
           "#19d3f3",
           "#FF6692",
           "#B6E880",
           "#FF97FF",
           "#FECB52"
          ],
          "font": {
           "color": "#2a3f5f"
          },
          "hovermode": "closest",
          "hoverlabel": {
           "align": "left"
          },
          "paper_bgcolor": "white",
          "plot_bgcolor": "#E5ECF6",
          "polar": {
           "bgcolor": "#E5ECF6",
           "angularaxis": {
            "gridcolor": "white",
            "linecolor": "white",
            "ticks": ""
           },
           "radialaxis": {
            "gridcolor": "white",
            "linecolor": "white",
            "ticks": ""
           }
          },
          "ternary": {
           "bgcolor": "#E5ECF6",
           "aaxis": {
            "gridcolor": "white",
            "linecolor": "white",
            "ticks": ""
           },
           "baxis": {
            "gridcolor": "white",
            "linecolor": "white",
            "ticks": ""
           },
           "caxis": {
            "gridcolor": "white",
            "linecolor": "white",
            "ticks": ""
           }
          },
          "coloraxis": {
           "colorbar": {
            "outlinewidth": 0,
            "ticks": ""
           }
          },
          "colorscale": {
           "sequential": [
            [
             0.0,
             "#0d0887"
            ],
            [
             0.1111111111111111,
             "#46039f"
            ],
            [
             0.2222222222222222,
             "#7201a8"
            ],
            [
             0.3333333333333333,
             "#9c179e"
            ],
            [
             0.4444444444444444,
             "#bd3786"
            ],
            [
             0.5555555555555556,
             "#d8576b"
            ],
            [
             0.6666666666666666,
             "#ed7953"
            ],
            [
             0.7777777777777778,
             "#fb9f3a"
            ],
            [
             0.8888888888888888,
             "#fdca26"
            ],
            [
             1.0,
             "#f0f921"
            ]
           ],
           "sequentialminus": [
            [
             0.0,
             "#0d0887"
            ],
            [
             0.1111111111111111,
             "#46039f"
            ],
            [
             0.2222222222222222,
             "#7201a8"
            ],
            [
             0.3333333333333333,
             "#9c179e"
            ],
            [
             0.4444444444444444,
             "#bd3786"
            ],
            [
             0.5555555555555556,
             "#d8576b"
            ],
            [
             0.6666666666666666,
             "#ed7953"
            ],
            [
             0.7777777777777778,
             "#fb9f3a"
            ],
            [
             0.8888888888888888,
             "#fdca26"
            ],
            [
             1.0,
             "#f0f921"
            ]
           ],
           "diverging": [
            [
             0,
             "#8e0152"
            ],
            [
             0.1,
             "#c51b7d"
            ],
            [
             0.2,
             "#de77ae"
            ],
            [
             0.3,
             "#f1b6da"
            ],
            [
             0.4,
             "#fde0ef"
            ],
            [
             0.5,
             "#f7f7f7"
            ],
            [
             0.6,
             "#e6f5d0"
            ],
            [
             0.7,
             "#b8e186"
            ],
            [
             0.8,
             "#7fbc41"
            ],
            [
             0.9,
             "#4d9221"
            ],
            [
             1,
             "#276419"
            ]
           ]
          },
          "xaxis": {
           "gridcolor": "white",
           "linecolor": "white",
           "ticks": "",
           "title": {
            "standoff": 15
           },
           "zerolinecolor": "white",
           "automargin": true,
           "zerolinewidth": 2
          },
          "yaxis": {
           "gridcolor": "white",
           "linecolor": "white",
           "ticks": "",
           "title": {
            "standoff": 15
           },
           "zerolinecolor": "white",
           "automargin": true,
           "zerolinewidth": 2
          },
          "scene": {
           "xaxis": {
            "backgroundcolor": "#E5ECF6",
            "gridcolor": "white",
            "linecolor": "white",
            "showbackground": true,
            "ticks": "",
            "zerolinecolor": "white",
            "gridwidth": 2
           },
           "yaxis": {
            "backgroundcolor": "#E5ECF6",
            "gridcolor": "white",
            "linecolor": "white",
            "showbackground": true,
            "ticks": "",
            "zerolinecolor": "white",
            "gridwidth": 2
           },
           "zaxis": {
            "backgroundcolor": "#E5ECF6",
            "gridcolor": "white",
            "linecolor": "white",
            "showbackground": true,
            "ticks": "",
            "zerolinecolor": "white",
            "gridwidth": 2
           }
          },
          "shapedefaults": {
           "line": {
            "color": "#2a3f5f"
           }
          },
          "annotationdefaults": {
           "arrowcolor": "#2a3f5f",
           "arrowhead": 0,
           "arrowwidth": 1
          },
          "geo": {
           "bgcolor": "white",
           "landcolor": "#E5ECF6",
           "subunitcolor": "white",
           "showland": true,
           "showlakes": true,
           "lakecolor": "white"
          },
          "title": {
           "x": 0.05
          },
          "mapbox": {
           "style": "light"
          }
         }
        },
        "title": {
         "text": "Comparación de Predicciones vs Datos Reales AAPL 2017"
        },
        "xaxis": {
         "title": {
          "text": "Fecha"
         }
        },
        "yaxis": {
         "title": {
          "text": "Close"
         }
        },
        "legend": {
         "title": {
          "text": "Leyenda"
         }
        }
       },
       "config": {
        "plotlyServerURL": "https://plot.ly"
       }
      },
      "text/html": [
       "<div>            <script src=\"https://cdnjs.cloudflare.com/ajax/libs/mathjax/2.7.5/MathJax.js?config=TeX-AMS-MML_SVG\"></script><script type=\"text/javascript\">if (window.MathJax && window.MathJax.Hub && window.MathJax.Hub.Config) {window.MathJax.Hub.Config({SVG: {font: \"STIX-Web\"}});}</script>                    <div id=\"f3b4152a-ff16-4941-9a0d-cf0f20a8e9f8\" class=\"plotly-graph-div\" style=\"height:525px; width:100%;\"></div>            <script type=\"text/javascript\">                window.PLOTLYENV=window.PLOTLYENV || {};                                if (document.getElementById(\"f3b4152a-ff16-4941-9a0d-cf0f20a8e9f8\")) {                    Plotly.newPlot(                        \"f3b4152a-ff16-4941-9a0d-cf0f20a8e9f8\",                        [{\"line\":{\"color\":\"blue\"},\"mode\":\"lines\",\"name\":\"Datos Reales 2017\",\"x\":[\"2017-01-04T00:00:00.000000000\",\"2017-01-05T00:00:00.000000000\",\"2017-01-06T00:00:00.000000000\",\"2017-01-09T00:00:00.000000000\",\"2017-01-10T00:00:00.000000000\",\"2017-01-11T00:00:00.000000000\",\"2017-01-12T00:00:00.000000000\",\"2017-01-13T00:00:00.000000000\",\"2017-01-17T00:00:00.000000000\",\"2017-01-18T00:00:00.000000000\",\"2017-01-19T00:00:00.000000000\",\"2017-01-20T00:00:00.000000000\",\"2017-01-23T00:00:00.000000000\",\"2017-01-24T00:00:00.000000000\",\"2017-01-25T00:00:00.000000000\",\"2017-01-26T00:00:00.000000000\",\"2017-01-27T00:00:00.000000000\",\"2017-01-30T00:00:00.000000000\",\"2017-01-31T00:00:00.000000000\",\"2017-02-01T00:00:00.000000000\",\"2017-02-02T00:00:00.000000000\",\"2017-02-03T00:00:00.000000000\",\"2017-02-06T00:00:00.000000000\",\"2017-02-07T00:00:00.000000000\",\"2017-02-08T00:00:00.000000000\",\"2017-02-09T00:00:00.000000000\",\"2017-02-10T00:00:00.000000000\",\"2017-02-13T00:00:00.000000000\",\"2017-02-14T00:00:00.000000000\",\"2017-02-15T00:00:00.000000000\",\"2017-02-16T00:00:00.000000000\",\"2017-02-17T00:00:00.000000000\",\"2017-02-21T00:00:00.000000000\",\"2017-02-22T00:00:00.000000000\",\"2017-02-23T00:00:00.000000000\",\"2017-02-24T00:00:00.000000000\",\"2017-02-27T00:00:00.000000000\",\"2017-02-28T00:00:00.000000000\",\"2017-03-01T00:00:00.000000000\",\"2017-03-02T00:00:00.000000000\",\"2017-03-03T00:00:00.000000000\",\"2017-03-06T00:00:00.000000000\",\"2017-03-07T00:00:00.000000000\",\"2017-03-08T00:00:00.000000000\",\"2017-03-09T00:00:00.000000000\",\"2017-03-10T00:00:00.000000000\",\"2017-03-13T00:00:00.000000000\",\"2017-03-14T00:00:00.000000000\",\"2017-03-15T00:00:00.000000000\",\"2017-03-16T00:00:00.000000000\",\"2017-03-17T00:00:00.000000000\",\"2017-03-20T00:00:00.000000000\",\"2017-03-21T00:00:00.000000000\",\"2017-03-22T00:00:00.000000000\",\"2017-03-23T00:00:00.000000000\",\"2017-03-24T00:00:00.000000000\",\"2017-03-27T00:00:00.000000000\",\"2017-03-28T00:00:00.000000000\",\"2017-03-29T00:00:00.000000000\",\"2017-03-30T00:00:00.000000000\",\"2017-03-31T00:00:00.000000000\",\"2017-04-03T00:00:00.000000000\",\"2017-04-04T00:00:00.000000000\",\"2017-04-05T00:00:00.000000000\",\"2017-04-06T00:00:00.000000000\",\"2017-04-07T00:00:00.000000000\",\"2017-04-10T00:00:00.000000000\",\"2017-04-11T00:00:00.000000000\",\"2017-04-12T00:00:00.000000000\",\"2017-04-13T00:00:00.000000000\",\"2017-04-17T00:00:00.000000000\",\"2017-04-18T00:00:00.000000000\",\"2017-04-19T00:00:00.000000000\",\"2017-04-20T00:00:00.000000000\",\"2017-04-21T00:00:00.000000000\",\"2017-04-24T00:00:00.000000000\",\"2017-04-25T00:00:00.000000000\",\"2017-04-26T00:00:00.000000000\",\"2017-04-27T00:00:00.000000000\",\"2017-04-28T00:00:00.000000000\",\"2017-05-01T00:00:00.000000000\",\"2017-05-02T00:00:00.000000000\",\"2017-05-03T00:00:00.000000000\",\"2017-05-04T00:00:00.000000000\",\"2017-05-05T00:00:00.000000000\",\"2017-05-08T00:00:00.000000000\",\"2017-05-09T00:00:00.000000000\",\"2017-05-10T00:00:00.000000000\",\"2017-05-11T00:00:00.000000000\",\"2017-05-12T00:00:00.000000000\",\"2017-05-15T00:00:00.000000000\",\"2017-05-16T00:00:00.000000000\",\"2017-05-17T00:00:00.000000000\",\"2017-05-18T00:00:00.000000000\",\"2017-05-19T00:00:00.000000000\",\"2017-05-22T00:00:00.000000000\",\"2017-05-23T00:00:00.000000000\",\"2017-05-24T00:00:00.000000000\",\"2017-05-25T00:00:00.000000000\",\"2017-05-26T00:00:00.000000000\",\"2017-05-30T00:00:00.000000000\",\"2017-05-31T00:00:00.000000000\",\"2017-06-01T00:00:00.000000000\",\"2017-06-02T00:00:00.000000000\",\"2017-06-05T00:00:00.000000000\",\"2017-06-06T00:00:00.000000000\",\"2017-06-07T00:00:00.000000000\",\"2017-06-08T00:00:00.000000000\",\"2017-06-09T00:00:00.000000000\",\"2017-06-12T00:00:00.000000000\",\"2017-06-13T00:00:00.000000000\",\"2017-06-14T00:00:00.000000000\",\"2017-06-15T00:00:00.000000000\",\"2017-06-16T00:00:00.000000000\",\"2017-06-19T00:00:00.000000000\",\"2017-06-20T00:00:00.000000000\",\"2017-06-21T00:00:00.000000000\",\"2017-06-22T00:00:00.000000000\",\"2017-06-23T00:00:00.000000000\",\"2017-06-26T00:00:00.000000000\",\"2017-06-27T00:00:00.000000000\",\"2017-06-28T00:00:00.000000000\",\"2017-06-29T00:00:00.000000000\",\"2017-06-30T00:00:00.000000000\",\"2017-07-03T00:00:00.000000000\",\"2017-07-05T00:00:00.000000000\",\"2017-07-06T00:00:00.000000000\",\"2017-07-07T00:00:00.000000000\",\"2017-07-10T00:00:00.000000000\",\"2017-07-11T00:00:00.000000000\",\"2017-07-12T00:00:00.000000000\",\"2017-07-13T00:00:00.000000000\",\"2017-07-14T00:00:00.000000000\",\"2017-07-17T00:00:00.000000000\",\"2017-07-18T00:00:00.000000000\",\"2017-07-19T00:00:00.000000000\",\"2017-07-20T00:00:00.000000000\",\"2017-07-21T00:00:00.000000000\",\"2017-07-24T00:00:00.000000000\",\"2017-07-25T00:00:00.000000000\",\"2017-07-26T00:00:00.000000000\",\"2017-07-27T00:00:00.000000000\",\"2017-07-28T00:00:00.000000000\",\"2017-07-31T00:00:00.000000000\",\"2017-08-01T00:00:00.000000000\",\"2017-08-02T00:00:00.000000000\",\"2017-08-03T00:00:00.000000000\",\"2017-08-04T00:00:00.000000000\",\"2017-08-07T00:00:00.000000000\",\"2017-08-08T00:00:00.000000000\",\"2017-08-09T00:00:00.000000000\",\"2017-08-10T00:00:00.000000000\",\"2017-08-11T00:00:00.000000000\",\"2017-08-14T00:00:00.000000000\",\"2017-08-15T00:00:00.000000000\",\"2017-08-16T00:00:00.000000000\",\"2017-08-17T00:00:00.000000000\",\"2017-08-18T00:00:00.000000000\",\"2017-08-21T00:00:00.000000000\",\"2017-08-22T00:00:00.000000000\",\"2017-08-23T00:00:00.000000000\",\"2017-08-24T00:00:00.000000000\",\"2017-08-25T00:00:00.000000000\",\"2017-08-28T00:00:00.000000000\",\"2017-08-29T00:00:00.000000000\",\"2017-08-30T00:00:00.000000000\",\"2017-08-31T00:00:00.000000000\",\"2017-09-01T00:00:00.000000000\",\"2017-09-05T00:00:00.000000000\",\"2017-09-06T00:00:00.000000000\",\"2017-09-07T00:00:00.000000000\",\"2017-09-08T00:00:00.000000000\",\"2017-09-11T00:00:00.000000000\",\"2017-09-12T00:00:00.000000000\",\"2017-09-13T00:00:00.000000000\",\"2017-09-14T00:00:00.000000000\",\"2017-09-15T00:00:00.000000000\",\"2017-09-18T00:00:00.000000000\",\"2017-09-19T00:00:00.000000000\",\"2017-09-20T00:00:00.000000000\",\"2017-09-21T00:00:00.000000000\",\"2017-09-22T00:00:00.000000000\",\"2017-09-25T00:00:00.000000000\",\"2017-09-26T00:00:00.000000000\",\"2017-09-27T00:00:00.000000000\",\"2017-09-28T00:00:00.000000000\",\"2017-09-29T00:00:00.000000000\",\"2017-10-02T00:00:00.000000000\",\"2017-10-03T00:00:00.000000000\",\"2017-10-04T00:00:00.000000000\",\"2017-10-05T00:00:00.000000000\",\"2017-10-06T00:00:00.000000000\",\"2017-10-09T00:00:00.000000000\",\"2017-10-10T00:00:00.000000000\",\"2017-10-11T00:00:00.000000000\",\"2017-10-12T00:00:00.000000000\",\"2017-10-13T00:00:00.000000000\",\"2017-10-16T00:00:00.000000000\",\"2017-10-17T00:00:00.000000000\",\"2017-10-18T00:00:00.000000000\",\"2017-10-19T00:00:00.000000000\",\"2017-10-20T00:00:00.000000000\",\"2017-10-23T00:00:00.000000000\",\"2017-10-24T00:00:00.000000000\",\"2017-10-25T00:00:00.000000000\",\"2017-10-26T00:00:00.000000000\",\"2017-10-27T00:00:00.000000000\",\"2017-10-30T00:00:00.000000000\",\"2017-10-31T00:00:00.000000000\",\"2017-11-01T00:00:00.000000000\",\"2017-11-02T00:00:00.000000000\",\"2017-11-03T00:00:00.000000000\",\"2017-11-06T00:00:00.000000000\",\"2017-11-07T00:00:00.000000000\",\"2017-11-08T00:00:00.000000000\",\"2017-11-09T00:00:00.000000000\",\"2017-11-10T00:00:00.000000000\",\"2017-11-13T00:00:00.000000000\",\"2017-11-14T00:00:00.000000000\",\"2017-11-15T00:00:00.000000000\",\"2017-11-16T00:00:00.000000000\",\"2017-11-17T00:00:00.000000000\",\"2017-11-20T00:00:00.000000000\",\"2017-11-21T00:00:00.000000000\",\"2017-11-22T00:00:00.000000000\",\"2017-11-24T00:00:00.000000000\",\"2017-11-27T00:00:00.000000000\",\"2017-11-28T00:00:00.000000000\",\"2017-11-29T00:00:00.000000000\",\"2017-11-30T00:00:00.000000000\",\"2017-12-01T00:00:00.000000000\",\"2017-12-04T00:00:00.000000000\",\"2017-12-05T00:00:00.000000000\",\"2017-12-06T00:00:00.000000000\",\"2017-12-07T00:00:00.000000000\",\"2017-12-08T00:00:00.000000000\",\"2017-12-11T00:00:00.000000000\",\"2017-12-12T00:00:00.000000000\",\"2017-12-13T00:00:00.000000000\",\"2017-12-14T00:00:00.000000000\",\"2017-12-15T00:00:00.000000000\",\"2017-12-18T00:00:00.000000000\",\"2017-12-19T00:00:00.000000000\",\"2017-12-20T00:00:00.000000000\",\"2017-12-21T00:00:00.000000000\",\"2017-12-22T00:00:00.000000000\",\"2017-12-26T00:00:00.000000000\",\"2017-12-27T00:00:00.000000000\",\"2017-12-28T00:00:00.000000000\",\"2017-12-29T00:00:00.000000000\"],\"y\":{\"dtype\":\"f8\",\"bdata\":\"ZmZmZmb2XEB7FK5H4fpcQFK4HoXrMV1AzczMzMx8XUDiehSuR7FdQI7C9Shcr11AmZmZmZm5XUDXo3A9CsddQPYoXI\\u002fClV1AAAAAAAAAXkCamZmZmdldQM3MzMzMHF5AAAAAAAAAXkA0MzMzM+NdQHsUrkfhGl5AexSuR+FqXkApXI\\u002fC9YheQOxRuB6FO15AmpmZmZlJXkBTuB6F68FfQB+F61G4\\u002fl9AUrgehesJYEBcj8L1KCRgQOF6FK5HUWBAMzMzMzNrYEDNzMzMzHRgQB+F61G4jmBAw\\u002fUoXI+iYEDXo3A9Cq9gQHE9Ctej8GBAPQrXo3D1YEAzMzMzM+NgQI\\u002fC9ShcB2FA9ihcj8INYUBcj8L1KCxhQIXrUbge\\u002fWBAFK5H4XokYUDD9ShcjyJhQBSuR+F6PGFAAAAAAACAYUApXI\\u002fC9VhhQOxRuB6Fa2FAUrgehethYUBmZmZmZl5hQEjhehSuV2FAAAAAAABoYUAzMzMzM1thQJqZmZmZaWFAhetRuB5tYUDXo3A9CpdhQAAAAAAAoGFAzczMzMyMYUDsUbgehcNhQHsUrkfhemFAuB6F61GoYUAAAAAAALBhQBSuR+F6bGFAhetRuB6dYUD2KFyPwvVhQK5H4XoUBmJA16NwPQr3YUAfhetRuPZhQAAAAAAA6GFA16NwPQoHYkDhehSuRwliQI\\u002fC9Shc92FAMzMzMzPzYUCuR+F6FN5hQDMzMzMzs2FAhetRuB69YUCPwvUoXK9hQIXrUbgerWFAXI\\u002fC9Si8YUDXo3A9CqdhQK5H4XoUzmFAAAAAAADwYUCF61G4Hv1hQNejcD0KD2JAPQrXo3D9YUB7FK5H4QJiQDMzMzMzI2JA4XoUrkdxYkB7FK5H4TJiQHE9CtejUGJAuB6F61FYYkApXI\\u002fC9aBiQKRwPQrXO2NAXI\\u002fC9Sg0Y0BmZmZmZg5jQGZmZmZmVmNAuB6F61GAY0CuR+F6FH5jQDMzMzMzM2NAcT0K16PoYkBcj8L1KCxjQAAAAAAAQGNAzczMzMxcY0B7FK5H4TpjQI\\u002fC9ShcN2NAAAAAAABAY0A9CtejcC1jQNejcD0KP2NAPQrXo3AlY0DD9ShcjzJjQHsUrkfhSmNAzczMzMw8Y0BxPQrXo2BjQAAAAAAAaGNArkfhehRmY0BI4XoUrjdiQIXrUbgeZWJAAAAAAABwYkAK16NwPephQClcj8L1+GFAhetRuB71YUCkcD0K11tiQHE9CtejMGJAcT0K16M4YkBcj8L1KCRiQD0K16NwZWJAuB6F61EgYkBI4XoUrg9iQB+F61G4FmJAZmZmZmYOYkBcj8L1KBxiQK5H4XoU9mFAcT0K16PgYUDNzMzMzNxhQOxRuB6FA2JAj8L1KFwXYkCkcD0K1ztiQAAAAAAAMGJA16NwPQp\\u002fYkAK16NwPZpiQGZmZmZmpmJAj8L1KFzPYkAAAAAAAPBiQEjhehSuv2JAw\\u002fUoXI\\u002fSYkCamZmZmfliQDMzMzMzK2NAAAAAAAA4Y0AUrkfherxiQM3MzMzMvGJAMzMzMzOjYkApXI\\u002fC9ehjQJqZmZmZoWNACtejcD2CY0BSuB6F66FjQDMzMzMz02NAuB6F61HoY0DNzMzMzPxjQDMzMzMzk2NACtejcD3qY0CF61G4HhVkQK5H4XoUPmRAcT0K16MQZEDsUbgehbtjQAAAAAAAsGNAj8L1KFzHY0AK16NwPeJjQPYoXI\\u002fCDWRAzczMzMz0Y0AUrkfhegRkQDMzMzMzA2RAmpmZmZl5ZEAUrkfhenRkQJqZmZmZmWRAAAAAAAB4ZEAfhetRuFZkQHsUrkfhQmRA7FG4HoUbZEAAAAAAABBkQOxRuB6FU2RApHA9Ctf7Y0BI4XoUrt9jQNejcD0Kz2NA7FG4HoUDZEC4HoXrUfBjQM3MzMzMvGNAmpmZmZl5Y0DhehSuR\\u002fFiQEjhehSuv2JAKVyPwvX4YkCamZmZmTljQBSuR+F6PGNAH4XrUbgmY0C4HoXrUUhjQLgehetRQGNAXI\\u002fC9Sg0Y0D2KFyPwkVjQNejcD0KX2NAUrgehet5Y0BSuB6F64FjQNejcD0Kf2NAMzMzMzOLY0CPwvUoXJdjQM3MzMzMvGNAKVyPwvX4Y0A9CtejcA1kQAAAAAAAmGNA7FG4HoWTY0AUrkfhepxjQOF6FK5HiWNAhetRuB6dY0CPwvUoXKdjQOF6FK5H6WNAFK5H4Xp8ZEDNzMzMzPxkQKRwPQrXO2VAMzMzMzPTZEAAAAAAAMBlQOxRuB6Fi2VAhetRuB69ZUCG61G4HtVlQOxRuB6F42VA7FG4HoXjZUAAAAAAALBlQOB6FK5HoWVA16NwPQo\\u002fZUD2KFyPwmVlQOF6FK5HYWVA4XoUrkdJZUApXI\\u002fC9VhlQOtRuB6Fq2VAMzMzMzPjZUCamZmZmeFlQJqZmZmZyWVAXI\\u002fC9SiUZUD2KFyPwk1lQGZmZmZmPmVAj8L1KFyPZUBSuB6F6yFlQAAAAAAA8GRAKVyPwvUgZUBJ4XoUrk9lQGZmZmZmJmVAzczMzMyEZUAAAAAAAJBlQM3MzMzMjGVAXI\\u002fC9Si0ZUBbj8L1KNxlQEjhehSu32VApHA9CtfbZUA9CtejcMVlQPcoXI\\u002fC1WVAmpmZmZlZZUAzMzMzM0NlQAEAAAAAYGVAcT0K16NQZUA=\"},\"type\":\"scatter\"},{\"line\":{\"color\":\"red\"},\"mode\":\"lines\",\"name\":\"Predicciones 2017\",\"x\":[\"2017-01-04T00:00:00.000000000\",\"2017-01-05T00:00:00.000000000\",\"2017-01-06T00:00:00.000000000\",\"2017-01-09T00:00:00.000000000\",\"2017-01-10T00:00:00.000000000\",\"2017-01-11T00:00:00.000000000\",\"2017-01-12T00:00:00.000000000\",\"2017-01-13T00:00:00.000000000\",\"2017-01-17T00:00:00.000000000\",\"2017-01-18T00:00:00.000000000\",\"2017-01-19T00:00:00.000000000\",\"2017-01-20T00:00:00.000000000\",\"2017-01-23T00:00:00.000000000\",\"2017-01-24T00:00:00.000000000\",\"2017-01-25T00:00:00.000000000\",\"2017-01-26T00:00:00.000000000\",\"2017-01-27T00:00:00.000000000\",\"2017-01-30T00:00:00.000000000\",\"2017-01-31T00:00:00.000000000\",\"2017-02-01T00:00:00.000000000\",\"2017-02-02T00:00:00.000000000\",\"2017-02-03T00:00:00.000000000\",\"2017-02-06T00:00:00.000000000\",\"2017-02-07T00:00:00.000000000\",\"2017-02-08T00:00:00.000000000\",\"2017-02-09T00:00:00.000000000\",\"2017-02-10T00:00:00.000000000\",\"2017-02-13T00:00:00.000000000\",\"2017-02-14T00:00:00.000000000\",\"2017-02-15T00:00:00.000000000\",\"2017-02-16T00:00:00.000000000\",\"2017-02-17T00:00:00.000000000\",\"2017-02-21T00:00:00.000000000\",\"2017-02-22T00:00:00.000000000\",\"2017-02-23T00:00:00.000000000\",\"2017-02-24T00:00:00.000000000\",\"2017-02-27T00:00:00.000000000\",\"2017-02-28T00:00:00.000000000\",\"2017-03-01T00:00:00.000000000\",\"2017-03-02T00:00:00.000000000\",\"2017-03-03T00:00:00.000000000\",\"2017-03-06T00:00:00.000000000\",\"2017-03-07T00:00:00.000000000\",\"2017-03-08T00:00:00.000000000\",\"2017-03-09T00:00:00.000000000\",\"2017-03-10T00:00:00.000000000\",\"2017-03-13T00:00:00.000000000\",\"2017-03-14T00:00:00.000000000\",\"2017-03-15T00:00:00.000000000\",\"2017-03-16T00:00:00.000000000\",\"2017-03-17T00:00:00.000000000\",\"2017-03-20T00:00:00.000000000\",\"2017-03-21T00:00:00.000000000\",\"2017-03-22T00:00:00.000000000\",\"2017-03-23T00:00:00.000000000\",\"2017-03-24T00:00:00.000000000\",\"2017-03-27T00:00:00.000000000\",\"2017-03-28T00:00:00.000000000\",\"2017-03-29T00:00:00.000000000\",\"2017-03-30T00:00:00.000000000\",\"2017-03-31T00:00:00.000000000\",\"2017-04-03T00:00:00.000000000\",\"2017-04-04T00:00:00.000000000\",\"2017-04-05T00:00:00.000000000\",\"2017-04-06T00:00:00.000000000\",\"2017-04-07T00:00:00.000000000\",\"2017-04-10T00:00:00.000000000\",\"2017-04-11T00:00:00.000000000\",\"2017-04-12T00:00:00.000000000\",\"2017-04-13T00:00:00.000000000\",\"2017-04-17T00:00:00.000000000\",\"2017-04-18T00:00:00.000000000\",\"2017-04-19T00:00:00.000000000\",\"2017-04-20T00:00:00.000000000\",\"2017-04-21T00:00:00.000000000\",\"2017-04-24T00:00:00.000000000\",\"2017-04-25T00:00:00.000000000\",\"2017-04-26T00:00:00.000000000\",\"2017-04-27T00:00:00.000000000\",\"2017-04-28T00:00:00.000000000\",\"2017-05-01T00:00:00.000000000\",\"2017-05-02T00:00:00.000000000\",\"2017-05-03T00:00:00.000000000\",\"2017-05-04T00:00:00.000000000\",\"2017-05-05T00:00:00.000000000\",\"2017-05-08T00:00:00.000000000\",\"2017-05-09T00:00:00.000000000\",\"2017-05-10T00:00:00.000000000\",\"2017-05-11T00:00:00.000000000\",\"2017-05-12T00:00:00.000000000\",\"2017-05-15T00:00:00.000000000\",\"2017-05-16T00:00:00.000000000\",\"2017-05-17T00:00:00.000000000\",\"2017-05-18T00:00:00.000000000\",\"2017-05-19T00:00:00.000000000\",\"2017-05-22T00:00:00.000000000\",\"2017-05-23T00:00:00.000000000\",\"2017-05-24T00:00:00.000000000\",\"2017-05-25T00:00:00.000000000\",\"2017-05-26T00:00:00.000000000\",\"2017-05-30T00:00:00.000000000\",\"2017-05-31T00:00:00.000000000\",\"2017-06-01T00:00:00.000000000\",\"2017-06-02T00:00:00.000000000\",\"2017-06-05T00:00:00.000000000\",\"2017-06-06T00:00:00.000000000\",\"2017-06-07T00:00:00.000000000\",\"2017-06-08T00:00:00.000000000\",\"2017-06-09T00:00:00.000000000\",\"2017-06-12T00:00:00.000000000\",\"2017-06-13T00:00:00.000000000\",\"2017-06-14T00:00:00.000000000\",\"2017-06-15T00:00:00.000000000\",\"2017-06-16T00:00:00.000000000\",\"2017-06-19T00:00:00.000000000\",\"2017-06-20T00:00:00.000000000\",\"2017-06-21T00:00:00.000000000\",\"2017-06-22T00:00:00.000000000\",\"2017-06-23T00:00:00.000000000\",\"2017-06-26T00:00:00.000000000\",\"2017-06-27T00:00:00.000000000\",\"2017-06-28T00:00:00.000000000\",\"2017-06-29T00:00:00.000000000\",\"2017-06-30T00:00:00.000000000\",\"2017-07-03T00:00:00.000000000\",\"2017-07-05T00:00:00.000000000\",\"2017-07-06T00:00:00.000000000\",\"2017-07-07T00:00:00.000000000\",\"2017-07-10T00:00:00.000000000\",\"2017-07-11T00:00:00.000000000\",\"2017-07-12T00:00:00.000000000\",\"2017-07-13T00:00:00.000000000\",\"2017-07-14T00:00:00.000000000\",\"2017-07-17T00:00:00.000000000\",\"2017-07-18T00:00:00.000000000\",\"2017-07-19T00:00:00.000000000\",\"2017-07-20T00:00:00.000000000\",\"2017-07-21T00:00:00.000000000\",\"2017-07-24T00:00:00.000000000\",\"2017-07-25T00:00:00.000000000\",\"2017-07-26T00:00:00.000000000\",\"2017-07-27T00:00:00.000000000\",\"2017-07-28T00:00:00.000000000\",\"2017-07-31T00:00:00.000000000\",\"2017-08-01T00:00:00.000000000\",\"2017-08-02T00:00:00.000000000\",\"2017-08-03T00:00:00.000000000\",\"2017-08-04T00:00:00.000000000\",\"2017-08-07T00:00:00.000000000\",\"2017-08-08T00:00:00.000000000\",\"2017-08-09T00:00:00.000000000\",\"2017-08-10T00:00:00.000000000\",\"2017-08-11T00:00:00.000000000\",\"2017-08-14T00:00:00.000000000\",\"2017-08-15T00:00:00.000000000\",\"2017-08-16T00:00:00.000000000\",\"2017-08-17T00:00:00.000000000\",\"2017-08-18T00:00:00.000000000\",\"2017-08-21T00:00:00.000000000\",\"2017-08-22T00:00:00.000000000\",\"2017-08-23T00:00:00.000000000\",\"2017-08-24T00:00:00.000000000\",\"2017-08-25T00:00:00.000000000\",\"2017-08-28T00:00:00.000000000\",\"2017-08-29T00:00:00.000000000\",\"2017-08-30T00:00:00.000000000\",\"2017-08-31T00:00:00.000000000\",\"2017-09-01T00:00:00.000000000\",\"2017-09-05T00:00:00.000000000\",\"2017-09-06T00:00:00.000000000\",\"2017-09-07T00:00:00.000000000\",\"2017-09-08T00:00:00.000000000\",\"2017-09-11T00:00:00.000000000\",\"2017-09-12T00:00:00.000000000\",\"2017-09-13T00:00:00.000000000\",\"2017-09-14T00:00:00.000000000\",\"2017-09-15T00:00:00.000000000\",\"2017-09-18T00:00:00.000000000\",\"2017-09-19T00:00:00.000000000\",\"2017-09-20T00:00:00.000000000\",\"2017-09-21T00:00:00.000000000\",\"2017-09-22T00:00:00.000000000\",\"2017-09-25T00:00:00.000000000\",\"2017-09-26T00:00:00.000000000\",\"2017-09-27T00:00:00.000000000\",\"2017-09-28T00:00:00.000000000\",\"2017-09-29T00:00:00.000000000\",\"2017-10-02T00:00:00.000000000\",\"2017-10-03T00:00:00.000000000\",\"2017-10-04T00:00:00.000000000\",\"2017-10-05T00:00:00.000000000\",\"2017-10-06T00:00:00.000000000\",\"2017-10-09T00:00:00.000000000\",\"2017-10-10T00:00:00.000000000\",\"2017-10-11T00:00:00.000000000\",\"2017-10-12T00:00:00.000000000\",\"2017-10-13T00:00:00.000000000\",\"2017-10-16T00:00:00.000000000\",\"2017-10-17T00:00:00.000000000\",\"2017-10-18T00:00:00.000000000\",\"2017-10-19T00:00:00.000000000\",\"2017-10-20T00:00:00.000000000\",\"2017-10-23T00:00:00.000000000\",\"2017-10-24T00:00:00.000000000\",\"2017-10-25T00:00:00.000000000\",\"2017-10-26T00:00:00.000000000\",\"2017-10-27T00:00:00.000000000\",\"2017-10-30T00:00:00.000000000\",\"2017-10-31T00:00:00.000000000\",\"2017-11-01T00:00:00.000000000\",\"2017-11-02T00:00:00.000000000\",\"2017-11-03T00:00:00.000000000\",\"2017-11-06T00:00:00.000000000\",\"2017-11-07T00:00:00.000000000\",\"2017-11-08T00:00:00.000000000\",\"2017-11-09T00:00:00.000000000\",\"2017-11-10T00:00:00.000000000\",\"2017-11-13T00:00:00.000000000\",\"2017-11-14T00:00:00.000000000\",\"2017-11-15T00:00:00.000000000\",\"2017-11-16T00:00:00.000000000\",\"2017-11-17T00:00:00.000000000\",\"2017-11-20T00:00:00.000000000\",\"2017-11-21T00:00:00.000000000\",\"2017-11-22T00:00:00.000000000\",\"2017-11-24T00:00:00.000000000\",\"2017-11-27T00:00:00.000000000\",\"2017-11-28T00:00:00.000000000\",\"2017-11-29T00:00:00.000000000\",\"2017-11-30T00:00:00.000000000\",\"2017-12-01T00:00:00.000000000\",\"2017-12-04T00:00:00.000000000\",\"2017-12-05T00:00:00.000000000\",\"2017-12-06T00:00:00.000000000\",\"2017-12-07T00:00:00.000000000\",\"2017-12-08T00:00:00.000000000\",\"2017-12-11T00:00:00.000000000\",\"2017-12-12T00:00:00.000000000\",\"2017-12-13T00:00:00.000000000\",\"2017-12-14T00:00:00.000000000\",\"2017-12-15T00:00:00.000000000\",\"2017-12-18T00:00:00.000000000\",\"2017-12-19T00:00:00.000000000\",\"2017-12-20T00:00:00.000000000\",\"2017-12-21T00:00:00.000000000\",\"2017-12-22T00:00:00.000000000\",\"2017-12-26T00:00:00.000000000\",\"2017-12-27T00:00:00.000000000\",\"2017-12-28T00:00:00.000000000\",\"2017-12-29T00:00:00.000000000\"],\"y\":{\"dtype\":\"f8\",\"bdata\":\"R+EqDSQiZUA9Cnfr+P9gQPUobLel02BAcD16MfQEYEDB9Uh2+\\u002fhfQOB6NO5A7l9Abz1qZNPrX0BRuP7yDLlfQEbh2mnzn19AehSOT+uNX0C3HmV4L6NfQOpRGKb9i19AehQOJ\\u002fSUX0C3HsUcto9fQOpRmNP6aV9AZWZGtjmfX0AyM5MgMa9fQFG4vjYUrV9A1qMQ0lF\\u002fX0DMzKxRk2hfQP\\u002f\\u002fbxxEYGBAKFw\\u002f+nlwYED1KBwciIBgQLgeddA4k2BA1qPALNiuYEAUrhenj8BgQFG4fj4KxmBA\\u002f\\u002f9v7NnRYEBbj3L0W+RgQKNw7Usj\\u002fmBAuB6F6SAaYUDMzHyU3h1hQLgeRfeMImFA4XqkTyQ4YUCZmQnWIUBhQNajEGXiQmFArUfxT9g3YUBbj\\u002fLctkhhQHoUjmT\\u002fSWFAKFyvMYp+YUD\\u002f\\u002fw\\u002f+qoZhQD0Kh4p2kWFAR+EqJTuOYUC4HqUq7ZRhQITrQekJjmFA9SisRUh7YUCjcA0lwJJhQEfhKr8JkGFAhOuhO6OUYUD1KAz1BaphQITrQegVu2FAwvW4hhG0YUC4HpXlwtNhQOF6JM9QwmFAo3DdNrvTYUCZmSn0jNJhQITrkVyq0WFA61HIqNPCYUBH4ar2VP5hQPUobNNlGGJAj8JVUXolYkDWo3DG8CFiQD0KV0uZImJACtdTC2EwYkBmZnafYTFiQMzMPIE\\u002fLmJAHoXbhHYoYkCPwhW79R9iQGZmhsg5+GFAZmYWAdX8YUDC9fi6ge5hQBSuN3M58WFA9ShM03bsYUAoXF+Ec+JhQDMzIzlw\\u002fGFAehTO22D9YUC4HtWLjyFiQNajwFbXMmJAhOtBduUrYkAUrncHyy9iQOtRyGAeK2JAUbgOiWRmYkAehduuEoNiQFuPEvxXdGJArUeRNluFYkBH4SpbOaNiQFG47iaN82JACtfTHW4xY0DhemTfuChjQHoUfqsJO2NAFK6XhY5rY0D1KOycs2xjQKNwXYm8cWNAhOuhYJESY0DMzJyGSTxjQPUo7CpMOGNAZmaGUUVKY0D\\u002f\\u002f49El1FjQHoUXvH9QmNAehR+M6hOY0BmZrZu7EhjQOF6lNX3TWNAPQrnSOA9Y0AoXF8MgEBjQI\\u002fCFWxzYGNAMjPDcetQY0BmZkYxL2pjQD0KF2+1dWNAR+GKMaFxY0A9Cscunf9iQMzM3IrhnWJAhOtBk22\\u002fYkAoXM8npIViQB6FO5ZeZGJAuB5Vdt1MYkCPwnX6dYZiQHA9+tc4eWJArUchxfWBYkAehevgGINiQOF6REzphWJArUfxo0eSYkDrUejFP2FiQI\\u002fCtd\\u002ffdGJAcD1q+JlIYkA9CmcKWl1iQHoUPpzMTGJAuB51b6dIYkAK1wMcYzBiQLgeRa0QSGJAKFzPLqhSYkA9CieiYmFiQGZmtsiwa2JACtejSm+RYkAK1\\u002fN+RrBiQB6FmzgIzGJAUbhurJLSYkD1KDyk0PFiQLgedR\\u002fv72JAW4\\u002fCRSnhYkDrUWiVZgpjQI\\u002fCZVA6HmNAo3DdNCs2Y0DrUQjhovZiQB6FOypJ8GJAehSOOwfTYkBwPRpHh9xiQOtRSDCHmmNAW4\\u002fijQ9rY0AehQuGRJhjQI\\u002fCleqKtGNAehSO2z3XY0DMzIwvEPBjQBSuV+X9m2NAR+G6e+zHY0DMzFxC9OJjQBSud0s0CGRAKFxf4kYPZEDhekRekt9jQFG4Lqgb1GNAHoX7LdWyY0D1KIwFeOxjQITrEWDn6WNA1qOgct\\u002fwY0DWowC\\u002faP1jQJmZqZOsFmRAKFy\\u002fsV0pZEDrUbg9+01kQMzMfF9VYGRA4XqkKcNrZEC4HoXP30FkQLgeZVKJRGRAR+FqGLUvZEDWoxBDZwRkQDIzQ1VhM2RAmZlJXm8fZEAUrvcM+w5kQGZm1sD\\u002f\\u002f2NA\\u002f\\u002f9vSgUHZED\\u002f\\u002f6\\u002fAJQBkQB6F2w2u\\u002fmNAW48iQgW2Y0AoXD9Og5ljQP\\u002f\\u002fL71hU2NAR+FquUU4Y0DMzNx8+mZjQArXU17GdWNAmZlpbkNqY0Bbj7IKN25jQD0KxzjgbmNArUeRlcp8Y0BbjzJHZ15jQGZmZvhvjGNArUfhRAuFY0CjcK2ua59jQPUobMCvoWNAcD3a3tGmY0CPwqVtf6ZjQOF6BORUs2NAMjNDKsbkY0DWo\\u002fBNpPljQFuPMnky\\u002fmNAPQonqOClY0CPwuVhJ8hjQBSu18EXqWNA61GIEfW4Y0BRuD75cKpjQBSu11nowmNAwvUodbodZEDC9XiAK3tkQJmZCUSVvWRAhOvBK12yZEBwPXqKksBkQITrwSuJNmVAR+GaTf8\\u002fZUA9CleXlGllQAnXw1l4hWVAj8JFlvR4ZUDheiSrJINlQKNwbcWJbWVAHoVrcDJFZUCZmdnH7BFlQML16AUMPGVArUcBYcUWZUBwPXo4uxxlQOF6hMDyTGVACdfDMvppZUB6FP45+IRlQP\\u002f\\u002fL\\u002fvQc2VAcD0qf3lrZUBRuI6aASFlQKNwnWzCRmVAo3A9J0goZUB6FH5EfjhlQLge1aPXImVAFK5XYeoFZUDhetSBWCJlQI\\u002fCpZ6NGGVA\\u002f\\u002f9fHHRCZUBmZkYUeEplQOtR+IPoXWVAHoW7dnxaZUDWo+BsEHhlQK1H4R5SsGVAehT+pDqJZUDgeiR9opplQChcvyEqn2VAwvVY+RWbZUDhemTDFj9lQFuP8nvrUGVA61Gocn1IZUA=\"},\"type\":\"scatter\"}],                        {\"template\":{\"data\":{\"histogram2dcontour\":[{\"type\":\"histogram2dcontour\",\"colorbar\":{\"outlinewidth\":0,\"ticks\":\"\"},\"colorscale\":[[0.0,\"#0d0887\"],[0.1111111111111111,\"#46039f\"],[0.2222222222222222,\"#7201a8\"],[0.3333333333333333,\"#9c179e\"],[0.4444444444444444,\"#bd3786\"],[0.5555555555555556,\"#d8576b\"],[0.6666666666666666,\"#ed7953\"],[0.7777777777777778,\"#fb9f3a\"],[0.8888888888888888,\"#fdca26\"],[1.0,\"#f0f921\"]]}],\"choropleth\":[{\"type\":\"choropleth\",\"colorbar\":{\"outlinewidth\":0,\"ticks\":\"\"}}],\"histogram2d\":[{\"type\":\"histogram2d\",\"colorbar\":{\"outlinewidth\":0,\"ticks\":\"\"},\"colorscale\":[[0.0,\"#0d0887\"],[0.1111111111111111,\"#46039f\"],[0.2222222222222222,\"#7201a8\"],[0.3333333333333333,\"#9c179e\"],[0.4444444444444444,\"#bd3786\"],[0.5555555555555556,\"#d8576b\"],[0.6666666666666666,\"#ed7953\"],[0.7777777777777778,\"#fb9f3a\"],[0.8888888888888888,\"#fdca26\"],[1.0,\"#f0f921\"]]}],\"heatmap\":[{\"type\":\"heatmap\",\"colorbar\":{\"outlinewidth\":0,\"ticks\":\"\"},\"colorscale\":[[0.0,\"#0d0887\"],[0.1111111111111111,\"#46039f\"],[0.2222222222222222,\"#7201a8\"],[0.3333333333333333,\"#9c179e\"],[0.4444444444444444,\"#bd3786\"],[0.5555555555555556,\"#d8576b\"],[0.6666666666666666,\"#ed7953\"],[0.7777777777777778,\"#fb9f3a\"],[0.8888888888888888,\"#fdca26\"],[1.0,\"#f0f921\"]]}],\"contourcarpet\":[{\"type\":\"contourcarpet\",\"colorbar\":{\"outlinewidth\":0,\"ticks\":\"\"}}],\"contour\":[{\"type\":\"contour\",\"colorbar\":{\"outlinewidth\":0,\"ticks\":\"\"},\"colorscale\":[[0.0,\"#0d0887\"],[0.1111111111111111,\"#46039f\"],[0.2222222222222222,\"#7201a8\"],[0.3333333333333333,\"#9c179e\"],[0.4444444444444444,\"#bd3786\"],[0.5555555555555556,\"#d8576b\"],[0.6666666666666666,\"#ed7953\"],[0.7777777777777778,\"#fb9f3a\"],[0.8888888888888888,\"#fdca26\"],[1.0,\"#f0f921\"]]}],\"surface\":[{\"type\":\"surface\",\"colorbar\":{\"outlinewidth\":0,\"ticks\":\"\"},\"colorscale\":[[0.0,\"#0d0887\"],[0.1111111111111111,\"#46039f\"],[0.2222222222222222,\"#7201a8\"],[0.3333333333333333,\"#9c179e\"],[0.4444444444444444,\"#bd3786\"],[0.5555555555555556,\"#d8576b\"],[0.6666666666666666,\"#ed7953\"],[0.7777777777777778,\"#fb9f3a\"],[0.8888888888888888,\"#fdca26\"],[1.0,\"#f0f921\"]]}],\"mesh3d\":[{\"type\":\"mesh3d\",\"colorbar\":{\"outlinewidth\":0,\"ticks\":\"\"}}],\"scatter\":[{\"fillpattern\":{\"fillmode\":\"overlay\",\"size\":10,\"solidity\":0.2},\"type\":\"scatter\"}],\"parcoords\":[{\"type\":\"parcoords\",\"line\":{\"colorbar\":{\"outlinewidth\":0,\"ticks\":\"\"}}}],\"scatterpolargl\":[{\"type\":\"scatterpolargl\",\"marker\":{\"colorbar\":{\"outlinewidth\":0,\"ticks\":\"\"}}}],\"bar\":[{\"error_x\":{\"color\":\"#2a3f5f\"},\"error_y\":{\"color\":\"#2a3f5f\"},\"marker\":{\"line\":{\"color\":\"#E5ECF6\",\"width\":0.5},\"pattern\":{\"fillmode\":\"overlay\",\"size\":10,\"solidity\":0.2}},\"type\":\"bar\"}],\"scattergeo\":[{\"type\":\"scattergeo\",\"marker\":{\"colorbar\":{\"outlinewidth\":0,\"ticks\":\"\"}}}],\"scatterpolar\":[{\"type\":\"scatterpolar\",\"marker\":{\"colorbar\":{\"outlinewidth\":0,\"ticks\":\"\"}}}],\"histogram\":[{\"marker\":{\"pattern\":{\"fillmode\":\"overlay\",\"size\":10,\"solidity\":0.2}},\"type\":\"histogram\"}],\"scattergl\":[{\"type\":\"scattergl\",\"marker\":{\"colorbar\":{\"outlinewidth\":0,\"ticks\":\"\"}}}],\"scatter3d\":[{\"type\":\"scatter3d\",\"line\":{\"colorbar\":{\"outlinewidth\":0,\"ticks\":\"\"}},\"marker\":{\"colorbar\":{\"outlinewidth\":0,\"ticks\":\"\"}}}],\"scattermap\":[{\"type\":\"scattermap\",\"marker\":{\"colorbar\":{\"outlinewidth\":0,\"ticks\":\"\"}}}],\"scattermapbox\":[{\"type\":\"scattermapbox\",\"marker\":{\"colorbar\":{\"outlinewidth\":0,\"ticks\":\"\"}}}],\"scatterternary\":[{\"type\":\"scatterternary\",\"marker\":{\"colorbar\":{\"outlinewidth\":0,\"ticks\":\"\"}}}],\"scattercarpet\":[{\"type\":\"scattercarpet\",\"marker\":{\"colorbar\":{\"outlinewidth\":0,\"ticks\":\"\"}}}],\"carpet\":[{\"aaxis\":{\"endlinecolor\":\"#2a3f5f\",\"gridcolor\":\"white\",\"linecolor\":\"white\",\"minorgridcolor\":\"white\",\"startlinecolor\":\"#2a3f5f\"},\"baxis\":{\"endlinecolor\":\"#2a3f5f\",\"gridcolor\":\"white\",\"linecolor\":\"white\",\"minorgridcolor\":\"white\",\"startlinecolor\":\"#2a3f5f\"},\"type\":\"carpet\"}],\"table\":[{\"cells\":{\"fill\":{\"color\":\"#EBF0F8\"},\"line\":{\"color\":\"white\"}},\"header\":{\"fill\":{\"color\":\"#C8D4E3\"},\"line\":{\"color\":\"white\"}},\"type\":\"table\"}],\"barpolar\":[{\"marker\":{\"line\":{\"color\":\"#E5ECF6\",\"width\":0.5},\"pattern\":{\"fillmode\":\"overlay\",\"size\":10,\"solidity\":0.2}},\"type\":\"barpolar\"}],\"pie\":[{\"automargin\":true,\"type\":\"pie\"}]},\"layout\":{\"autotypenumbers\":\"strict\",\"colorway\":[\"#636efa\",\"#EF553B\",\"#00cc96\",\"#ab63fa\",\"#FFA15A\",\"#19d3f3\",\"#FF6692\",\"#B6E880\",\"#FF97FF\",\"#FECB52\"],\"font\":{\"color\":\"#2a3f5f\"},\"hovermode\":\"closest\",\"hoverlabel\":{\"align\":\"left\"},\"paper_bgcolor\":\"white\",\"plot_bgcolor\":\"#E5ECF6\",\"polar\":{\"bgcolor\":\"#E5ECF6\",\"angularaxis\":{\"gridcolor\":\"white\",\"linecolor\":\"white\",\"ticks\":\"\"},\"radialaxis\":{\"gridcolor\":\"white\",\"linecolor\":\"white\",\"ticks\":\"\"}},\"ternary\":{\"bgcolor\":\"#E5ECF6\",\"aaxis\":{\"gridcolor\":\"white\",\"linecolor\":\"white\",\"ticks\":\"\"},\"baxis\":{\"gridcolor\":\"white\",\"linecolor\":\"white\",\"ticks\":\"\"},\"caxis\":{\"gridcolor\":\"white\",\"linecolor\":\"white\",\"ticks\":\"\"}},\"coloraxis\":{\"colorbar\":{\"outlinewidth\":0,\"ticks\":\"\"}},\"colorscale\":{\"sequential\":[[0.0,\"#0d0887\"],[0.1111111111111111,\"#46039f\"],[0.2222222222222222,\"#7201a8\"],[0.3333333333333333,\"#9c179e\"],[0.4444444444444444,\"#bd3786\"],[0.5555555555555556,\"#d8576b\"],[0.6666666666666666,\"#ed7953\"],[0.7777777777777778,\"#fb9f3a\"],[0.8888888888888888,\"#fdca26\"],[1.0,\"#f0f921\"]],\"sequentialminus\":[[0.0,\"#0d0887\"],[0.1111111111111111,\"#46039f\"],[0.2222222222222222,\"#7201a8\"],[0.3333333333333333,\"#9c179e\"],[0.4444444444444444,\"#bd3786\"],[0.5555555555555556,\"#d8576b\"],[0.6666666666666666,\"#ed7953\"],[0.7777777777777778,\"#fb9f3a\"],[0.8888888888888888,\"#fdca26\"],[1.0,\"#f0f921\"]],\"diverging\":[[0,\"#8e0152\"],[0.1,\"#c51b7d\"],[0.2,\"#de77ae\"],[0.3,\"#f1b6da\"],[0.4,\"#fde0ef\"],[0.5,\"#f7f7f7\"],[0.6,\"#e6f5d0\"],[0.7,\"#b8e186\"],[0.8,\"#7fbc41\"],[0.9,\"#4d9221\"],[1,\"#276419\"]]},\"xaxis\":{\"gridcolor\":\"white\",\"linecolor\":\"white\",\"ticks\":\"\",\"title\":{\"standoff\":15},\"zerolinecolor\":\"white\",\"automargin\":true,\"zerolinewidth\":2},\"yaxis\":{\"gridcolor\":\"white\",\"linecolor\":\"white\",\"ticks\":\"\",\"title\":{\"standoff\":15},\"zerolinecolor\":\"white\",\"automargin\":true,\"zerolinewidth\":2},\"scene\":{\"xaxis\":{\"backgroundcolor\":\"#E5ECF6\",\"gridcolor\":\"white\",\"linecolor\":\"white\",\"showbackground\":true,\"ticks\":\"\",\"zerolinecolor\":\"white\",\"gridwidth\":2},\"yaxis\":{\"backgroundcolor\":\"#E5ECF6\",\"gridcolor\":\"white\",\"linecolor\":\"white\",\"showbackground\":true,\"ticks\":\"\",\"zerolinecolor\":\"white\",\"gridwidth\":2},\"zaxis\":{\"backgroundcolor\":\"#E5ECF6\",\"gridcolor\":\"white\",\"linecolor\":\"white\",\"showbackground\":true,\"ticks\":\"\",\"zerolinecolor\":\"white\",\"gridwidth\":2}},\"shapedefaults\":{\"line\":{\"color\":\"#2a3f5f\"}},\"annotationdefaults\":{\"arrowcolor\":\"#2a3f5f\",\"arrowhead\":0,\"arrowwidth\":1},\"geo\":{\"bgcolor\":\"white\",\"landcolor\":\"#E5ECF6\",\"subunitcolor\":\"white\",\"showland\":true,\"showlakes\":true,\"lakecolor\":\"white\"},\"title\":{\"x\":0.05},\"mapbox\":{\"style\":\"light\"}}},\"title\":{\"text\":\"Comparaci\\u00f3n de Predicciones vs Datos Reales AAPL 2017\"},\"xaxis\":{\"title\":{\"text\":\"Fecha\"}},\"yaxis\":{\"title\":{\"text\":\"Close\"}},\"legend\":{\"title\":{\"text\":\"Leyenda\"}}},                        {\"responsive\": true}                    ).then(function(){\n",
       "                            \n",
       "var gd = document.getElementById('f3b4152a-ff16-4941-9a0d-cf0f20a8e9f8');\n",
       "var x = new MutationObserver(function (mutations, observer) {{\n",
       "        var display = window.getComputedStyle(gd).display;\n",
       "        if (!display || display === 'none') {{\n",
       "            console.log([gd, 'removed!']);\n",
       "            Plotly.purge(gd);\n",
       "            observer.disconnect();\n",
       "        }}\n",
       "}});\n",
       "\n",
       "// Listen for the removal of the full notebook cells\n",
       "var notebookContainer = gd.closest('#notebook-container');\n",
       "if (notebookContainer) {{\n",
       "    x.observe(notebookContainer, {childList: true});\n",
       "}}\n",
       "\n",
       "// Listen for the clearing of the current output cell\n",
       "var outputEl = gd.closest('.output');\n",
       "if (outputEl) {{\n",
       "    x.observe(outputEl, {childList: true});\n",
       "}}\n",
       "\n",
       "                        })                };            </script>        </div>"
      ]
     },
     "metadata": {},
     "output_type": "display_data"
    },
    {
     "name": "stdout",
     "output_type": "stream",
     "text": [
      "R-squared para el mes 1: -76.0849\n",
      "R-squared para el mes 2: 0.6836\n",
      "R-squared para el mes 3: 0.3555\n",
      "R-squared para el mes 4: -1.2144\n",
      "R-squared para el mes 5: 0.9019\n",
      "R-squared para el mes 6: 0.6493\n",
      "R-squared para el mes 7: 0.7705\n",
      "R-squared para el mes 8: 0.5033\n",
      "R-squared para el mes 9: 0.7805\n",
      "R-squared para el mes 10: 0.7601\n",
      "R-squared para el mes 11: -0.8512\n",
      "R-squared para el mes 12: 0.3639\n"
     ]
    }
   ],
   "execution_count": 126
  }
 ],
 "metadata": {
  "kernelspec": {
   "display_name": "Python 3",
   "language": "python",
   "name": "python3"
  },
  "language_info": {
   "codemirror_mode": {
    "name": "ipython",
    "version": 2
   },
   "file_extension": ".py",
   "mimetype": "text/x-python",
   "name": "python",
   "nbconvert_exporter": "python",
   "pygments_lexer": "ipython2",
   "version": "2.7.6"
  }
 },
 "nbformat": 4,
 "nbformat_minor": 5
}
